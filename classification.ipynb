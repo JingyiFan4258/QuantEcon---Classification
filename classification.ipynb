{
 "cells": [
  {
   "cell_type": "markdown",
   "id": "0f9263b1",
   "metadata": {},
   "source": [
    "# ECON-GA-4005 Spring 2022 Midterm\n",
    "\n",
    "Welcome to the Sprint 2022 midterm exam.\n",
    "\n",
    "Please begin by adding your name and NID below\n",
    "\n",
    "Name: Jingyi Fan\n",
    "\n",
    "NID: N15191508\n",
    "\n",
    "\n",
    "## Background/Instructions\n",
    "\n",
    "The midterm is to complete a slightly modified version of the exercises in the QuantEcon datascience classification lecture (which can be found here [here](https://datascience.quantecon.org/applications/classification.html))\n",
    "\n",
    "There are a total of 8 questions that need to be completed and plenty of learning/reading material along the way.\n",
    "\n",
    "Please make sure to attempt/complete all 8 exercises to the best of your ability. Note that some questions have multiple parts. Read the question carefully and respond to each part.\n",
    "\n",
    "Next to each exercise will be a point total for that question. There are a total of 150 points possible in this exam.\n",
    "\n",
    "Once you have completed all questions, please upload your completed notebook to Brightspace. **Do not** change the name of the notebook. It should remain `classification.ipynb`\n",
    "\n",
    "You are permitted to use any existing online resource as you work on the exam. Google is your friend. You are not permitted to post a question to a forum, message group, or any other form of online or in person communication to get help on the exam.\n",
    "\n",
    "You are to work alone.\n",
    "\n",
    "There is no autograding for this assignemnt. All responses will be graded by one of the professors.\n",
    "\n",
    "If you have quesitons, you can email one of the professors or post a question on Brightspace (if your question is potentially helpful to other students, we may ask that an emailed question be reposted on Brightspace). We will only answer *clarifying* questions if something is unclear."
   ]
  },
  {
   "cell_type": "markdown",
   "id": "ec4a88e2",
   "metadata": {
    "id": "aa3a099a"
   },
   "source": [
    "# Classification\n",
    "\n",
    "**Authors**\n",
    "\n",
    "> Chase Coleman, Spencer Lyon, Jesse Perla\n",
    "\n",
    "**Co-authors**\n",
    "\n",
    "> - [Quentin Batista *University of Tokyo*](https://github.com/QBatista)  \n",
    "> - [Thomas Sargent *NYU*](http://www.tomsargent.com/)  \n",
    "> - [Paul Schrimpf *UBC*](https://economics.ubc.ca/faculty-and-staff/paul-schrimpf/)  \n",
    "> - [Natasha Watkins *UCLA*](https://github.com/natashawatkins)  \n",
    "\n",
    "\n",
    "\n",
    "**Prerequisites**\n",
    "\n",
    "- [Regression](https://datascience.quantecon.org/regression.html)  \n",
    "\n",
    "\n",
    "**Outcomes**\n",
    "\n",
    "- Understand what problems classification solves  \n",
    "- Evaluate classification models using a variety of metrics  "
   ]
  },
  {
   "cell_type": "code",
   "execution_count": 1,
   "id": "4b16c888",
   "metadata": {
    "hide-output": false,
    "id": "bef4e68b"
   },
   "outputs": [],
   "source": [
    "# Uncomment following line to install on colab\n",
    "# ! pip install fiona geopandas xgboost gensim folium pyLDAvis descartes"
   ]
  },
  {
   "cell_type": "markdown",
   "id": "8d6efb38",
   "metadata": {
    "id": "42220331"
   },
   "source": [
    "## Introduction to Classification\n",
    "\n",
    "We now move from regression to the second main branch of machine learning:\n",
    "classification.\n",
    "\n",
    "Recall that the regression problem mapped a set of\n",
    "feature variables to a continuous target.\n",
    "\n",
    "Classification is similar to regression, but instead of predicting a continuous\n",
    "target, classification algorithms attempt to apply one (or more) of a discrete\n",
    "number of labels or classes to each observation.\n",
    "\n",
    "Another perspective is that for regression, the targets are usually\n",
    "continuous-valued, while in classification, the targets are categorical.\n",
    "\n",
    "Common examples of classification problems are\n",
    "\n",
    "- Labeling emails as spam or not spam  \n",
    "- Person identification in a photo  \n",
    "- Speech recognition  \n",
    "- Whether or not a country is or will be in a recession  \n",
    "\n",
    "\n",
    "Classification can also be applied in settings where the target isn’t naturally\n",
    "categorical.\n",
    "\n",
    "For example, suppose we want to predict whether the unemployment rate for a state\n",
    "will be low ($ <3\\% $), medium ($ \\in [3\\%, 5\\%] $), or high ($ >5\\% $)\n",
    "but don’t care about the actual number.\n",
    "\n",
    "Most economic problems are posed in continuous terms, so it may take some creativity\n",
    "to determine the optimal way to categorize a target variable so\n",
    "classification algorithms can be applied.\n",
    "\n",
    "As many problems can be posed either as classification or regression, many\n",
    "machine learning algorithms have variants that perform regression or\n",
    "classification tasks.\n",
    "\n",
    "Throughout this lecture, we will revisit some of the algorithms from the\n",
    "[regression](https://datascience.quantecon.org/regression.html) lecture and discuss how they can be applied in\n",
    "classification settings.\n",
    "\n",
    "As we have already seen relatives of these algorithms, this lecture will be\n",
    "lighter on exposition and then build up to an application."
   ]
  },
  {
   "cell_type": "code",
   "execution_count": 2,
   "id": "5ff76529",
   "metadata": {
    "hide-output": false,
    "id": "3e129e4d"
   },
   "outputs": [],
   "source": [
    "import datetime\n",
    "import numpy as np\n",
    "import pandas as pd\n",
    "import pandas_datareader.data as web\n",
    "\n",
    "from sklearn import (\n",
    "    linear_model, metrics, pipeline, preprocessing, model_selection\n",
    ")\n",
    "\n",
    "import matplotlib.pyplot as plt\n",
    "%matplotlib inline"
   ]
  },
  {
   "cell_type": "markdown",
   "id": "c6a14361",
   "metadata": {
    "id": "b57a6f10"
   },
   "source": [
    "## Warmup Example: Logistic Regression\n",
    "\n",
    "We have actually already encountered a classification algorithm.\n",
    "\n",
    "In the [recidivism](https://datascience.quantecon.org/recidivism.html) example, we attempted to predict whether\n",
    "or not an individual would commit another crime by using a combination of the\n",
    "assigned COMPAS score and the individual’s gender or race.\n",
    "\n",
    "In that example, we used a *logistic regression* model, which is a close\n",
    "relative of the linear regression model from the [regression](https://datascience.quantecon.org/regression.html) section.\n",
    "\n",
    "The logistic regression model for predicting the likelihood of recidivism using\n",
    "the `COMPAS` score as the single feature is written\n",
    "\n",
    "$$\n",
    "p(\\text{recid}) = L(\\beta_0 + \\beta_1 \\text{COMPAS} + \\epsilon)\n",
    "$$\n",
    "\n",
    "where $ L $ is the *logistic function*: $ L(x) = \\frac{1}{1 + e^{-x}} $.\n",
    "\n",
    "To get some intuition for this function, let’s plot it below."
   ]
  },
  {
   "cell_type": "code",
   "execution_count": 3,
   "id": "5cfe6580",
   "metadata": {
    "hide-output": false,
    "id": "d2781e5b"
   },
   "outputs": [
    {
     "data": {
      "text/plain": [
       "[<matplotlib.lines.Line2D at 0x7fe8126db910>]"
      ]
     },
     "execution_count": 3,
     "metadata": {},
     "output_type": "execute_result"
    },
    {
     "data": {
      "image/png": "[encoded data removed]",
      "text/plain": [
       "<Figure size 432x288 with 1 Axes>"
      ]
     },
     "metadata": {
      "needs_background": "light"
     },
     "output_type": "display_data"
    }
   ],
   "source": [
    "x = np.linspace(-5, 5, 100)\n",
    "y = 1/(1+np.exp(-x))\n",
    "plt.plot(x, y)"
   ]
  },
  {
   "cell_type": "markdown",
   "id": "62a18b86",
   "metadata": {
    "id": "318b1f30"
   },
   "source": [
    "Notice that for all values of $ x $, the value of the logistic function is\n",
    "always between 0 and 1.\n",
    "\n",
    "This is perfect for binary classification problems that need to\n",
    "output the probability of one of the two labels.\n",
    "\n",
    "Let’s load up the recidivism data and fit the logistic regression model."
   ]
  },
  {
   "cell_type": "code",
   "execution_count": 4,
   "id": "a47745b0",
   "metadata": {
    "hide-output": false,
    "id": "a381b235"
   },
   "outputs": [
    {
     "name": "stdout",
     "output_type": "stream",
     "text": [
      "Fit model: p(recid) = L(-1.3919 + 0.2657 decile_score)\n"
     ]
    }
   ],
   "source": [
    "data_url = \"https://raw.githubusercontent.com/propublica/compas-analysis\"\n",
    "data_url += \"/master/compas-scores-two-years.csv\"\n",
    "\n",
    "df = pd.read_csv(data_url)\n",
    "df.head()\n",
    "\n",
    "X = df[[\"decile_score\"]]\n",
    "y = df[\"two_year_recid\"]\n",
    "X_train, X_test, y_train, y_test = model_selection.train_test_split(X, y, test_size=0.25)\n",
    "\n",
    "logistic_model = linear_model.LogisticRegression(solver=\"lbfgs\")\n",
    "logistic_model.fit(X_train, y_train)\n",
    "\n",
    "beta_0 = logistic_model.intercept_[0]\n",
    "beta_1 = logistic_model.coef_[0][0]\n",
    "\n",
    "print(f\"Fit model: p(recid) = L({beta_0:.4f} + {beta_1:.4f} decile_score)\")"
   ]
  },
  {
   "cell_type": "markdown",
   "id": "b7763639",
   "metadata": {
    "id": "352019ef"
   },
   "source": [
    "From these coefficients, we see that an increase in the `decile_score` leads\n",
    "to an increase in the predicted probability of recidivism.\n",
    "\n",
    "Suppose we choose to classify any model output greater than 0.5 as “at risk of\n",
    "recidivism”.\n",
    "\n",
    "Then, the positive coefficient on `decile_score` means that there is some cutoff score above which all individuals will be labeled as high-risk."
   ]
  },
  {
   "cell_type": "markdown",
   "id": "be8ce68c",
   "metadata": {
    "id": "17d7bd65"
   },
   "source": [
    "### Exercise 1 (10 points)\n",
    "\n",
    "Determine the level of this cutoff value. That is, compute that value of COMPAS that will\n",
    "cause the model prediction to be exactly 0.5 \n",
    "\n",
    "> Hint: Recall that the COMPAS score takes on integer values between 1 and 10, inclusive.\n",
    "\n",
    "What happens to the cutoff level of the `decile_score` when you change\n",
    "the classification threshold from 0.5 to 0.7? What about 0.3? Remember this\n",
    "idea – we’ll come back to it soon.\n"
   ]
  },
  {
   "cell_type": "code",
   "execution_count": 5,
   "id": "51a43fd0",
   "metadata": {},
   "outputs": [
    {
     "name": "stdout",
     "output_type": "stream",
     "text": [
      "A COMPAS value of 5.2377 will cause the model prediction to be exactly 0.5. It means for any CAMPS >= 6 the individuals can be labeled as high risk of recidivism.\n"
     ]
    }
   ],
   "source": [
    "import math\n",
    "X_cutoff_1 = (-np.log(1/0.5-1) - beta_0)/beta_1\n",
    "print(f\"A COMPAS value of {X_cutoff_1:.4f} will cause the model prediction to be exactly 0.5. It means for any CAMPS >= %d the individuals can be labeled as high risk of recidivism.\"% math.ceil(X_cutoff_1))"
   ]
  },
  {
   "cell_type": "code",
   "execution_count": 6,
   "id": "aa50f91f",
   "metadata": {},
   "outputs": [
    {
     "name": "stdout",
     "output_type": "stream",
     "text": [
      "A COMPAS value of 8.4261 will cause the model prediction to be exactly 0.7. It means for any CAMPS >= 9 the individuals can be labeled as high risk of recidivism.\n"
     ]
    }
   ],
   "source": [
    "X_cutoff_2 = (-np.log(1/0.7-1) - beta_0)/beta_1\n",
    "print(f\"A COMPAS value of {X_cutoff_2:.4f} will cause the model prediction to be exactly 0.7. It means for any CAMPS >= %d the individuals can be labeled as high risk of recidivism.\"% math.ceil(X_cutoff_2))"
   ]
  },
  {
   "cell_type": "code",
   "execution_count": 7,
   "id": "b3202f2d",
   "metadata": {},
   "outputs": [
    {
     "name": "stdout",
     "output_type": "stream",
     "text": [
      "A COMPAS value of 2.0492 will cause the model prediction to be exactly 0.3. It means for any CAMPS >= 3 the individuals can be labeled as high risk of recidivism.\n"
     ]
    }
   ],
   "source": [
    "X_cutoff_3 = (-np.log(1/0.3-1) - beta_0)/beta_1\n",
    "print(f\"A COMPAS value of {X_cutoff_3:.4f} will cause the model prediction to be exactly 0.3. It means for any CAMPS >= %d the individuals can be labeled as high risk of recidivism.\"% math.ceil(X_cutoff_3))"
   ]
  },
  {
   "cell_type": "markdown",
   "id": "15e8c554",
   "metadata": {
    "id": "0693b43e"
   },
   "source": [
    "### Visualization: Decision Boundaries\n",
    "\n",
    "With just one feature that has a positive coefficient, the model’s predictions\n",
    "will always have this cutoff structure.\n",
    "\n",
    "Let’s add a second feature the model: the age of the individual."
   ]
  },
  {
   "cell_type": "code",
   "execution_count": 8,
   "id": "153988f4",
   "metadata": {
    "hide-output": false,
    "id": "deccaf91"
   },
   "outputs": [
    {
     "name": "stdout",
     "output_type": "stream",
     "text": [
      "Fit model: p(recid) = L(-0.8505 + 0.2470 decile_score + -0.0130 age)\n"
     ]
    }
   ],
   "source": [
    "X = df[[\"decile_score\", \"age\"]]\n",
    "X_train, X_test, y_train, y_test = model_selection.train_test_split(\n",
    "    X, y, test_size=0.25, random_state=42\n",
    ")\n",
    "\n",
    "logistic_age_model = linear_model.LogisticRegression(solver=\"lbfgs\")\n",
    "logistic_age_model.fit(X_train, y_train)\n",
    "\n",
    "beta_0 = logistic_age_model.intercept_[0]\n",
    "beta_1, beta_2 = logistic_age_model.coef_[0]\n",
    "\n",
    "print(f\"Fit model: p(recid) = L({beta_0:.4f} + {beta_1:.4f} decile_score + {beta_2:.4f} age)\")"
   ]
  },
  {
   "cell_type": "markdown",
   "id": "32f31b67",
   "metadata": {
    "id": "6f0c9d58"
   },
   "source": [
    "Here, we see that an increase in the `decile_score` still leads to an increase in\n",
    "the predicted probability of recidivism, while older individuals are slightly\n",
    "less likely to commit crime again.\n",
    "\n",
    "We’ll build on an example from the [scikit-learn documentation](https://scikit-learn.org/stable/auto_examples/svm/plot_iris_svc.html) to visualize the predictions of this model."
   ]
  },
  {
   "cell_type": "code",
   "execution_count": 9,
   "id": "794140a5",
   "metadata": {
    "hide-output": false,
    "id": "20d5a3ff"
   },
   "outputs": [
    {
     "name": "stderr",
     "output_type": "stream",
     "text": [
      "/Users/clairefan/opt/anaconda3/envs/MLClass/lib/python3.9/site-packages/sklearn/base.py:450: UserWarning: X does not have valid feature names, but LogisticRegression was fitted with feature names\n",
      "  warnings.warn(\n"
     ]
    },
    {
     "data": {
      "text/plain": [
       "<AxesSubplot:xlabel='decile_score', ylabel='age'>"
      ]
     },
     "execution_count": 9,
     "metadata": {},
     "output_type": "execute_result"
    },
    {
     "data": {
      "image/png": "[encoded data removed]",
      "text/plain": [
       "<Figure size 432x288 with 1 Axes>"
      ]
     },
     "metadata": {
      "needs_background": "light"
     },
     "output_type": "display_data"
    }
   ],
   "source": [
    "def plot_contours(ax, mod, xx, yy, **params):\n",
    "    \"\"\"\n",
    "    Plot the decision boundaries for a classifier with 2 features x and y.\n",
    "\n",
    "    Parameters\n",
    "    ----------\n",
    "    ax: matplotlib axes object\n",
    "    mod: a classifier\n",
    "    xx: meshgrid ndarray\n",
    "    yy: meshgrid ndarray\n",
    "    params: dictionary of params to pass to contourf, optional\n",
    "    \"\"\"\n",
    "    Z = mod.predict(np.c_[xx.ravel(), yy.ravel()])\n",
    "    Z = Z.reshape(xx.shape)\n",
    "    out = ax.contourf(xx, yy, Z, **params)\n",
    "    return out\n",
    "\n",
    "def fit_and_plot_decision_boundary(mod, X, y, **params):\n",
    "    # fit model\n",
    "    mod.fit(X, y)\n",
    "\n",
    "    # generate grids of first two columns of X\n",
    "    def gen_grid(xseries):\n",
    "        if xseries.nunique() < 50:\n",
    "            return sorted(xseries.unique())\n",
    "        else:\n",
    "            return np.linspace(xseries.min(), xseries.max(), 50)\n",
    "\n",
    "    x1, x2 = np.meshgrid(gen_grid(X.iloc[:, 0]), gen_grid(X.iloc[:, 1]))\n",
    "\n",
    "    # plot contours and scatter\n",
    "    fig, ax = plt.subplots()\n",
    "    plot_contours(ax, mod, x1, x2, **params)\n",
    "    x1_name, x2_name = list(X)[:2]\n",
    "    X.plot.scatter(x=x1_name, y=x2_name, color=y, ax=ax)\n",
    "    ax.set_xlabel(x1_name)\n",
    "    ax.set_ylabel(x2_name)\n",
    "\n",
    "    return ax\n",
    "\n",
    "fit_and_plot_decision_boundary(\n",
    "    linear_model.LogisticRegression(solver=\"lbfgs\"),\n",
    "    X_train, y_train, cmap=plt.cm.Greys\n",
    ")"
   ]
  },
  {
   "cell_type": "markdown",
   "id": "a0371e12",
   "metadata": {
    "id": "79a1a7be"
   },
   "source": [
    "In this plot, we can clearly see the relationships we identified from the\n",
    "coefficients.\n",
    "\n",
    "However, we do see that the model is not perfect, as some solid circles are\n",
    "in the light section and some light circles in the solid section.\n",
    "\n",
    "This is likely caused by two things:\n",
    "\n",
    "1. The model inside the logistic function is a linear regression – thus only a\n",
    "  linear combination of the input features can be used for prediction.  \n",
    "1. Drawing a straight line (linear) that perfectly separates\n",
    "  true observations from the false is impossible.  "
   ]
  },
  {
   "cell_type": "markdown",
   "id": "6704f03f",
   "metadata": {
    "id": "775ce172"
   },
   "source": [
    "### Exercise 2 (15 points)\n",
    "\n",
    "Experiment with different pairs of features to see which ones show the\n",
    "clearest decision boundaries.\n",
    "\n",
    "Feed different `X` DataFrames into the `fit_and_plot_decision_boundary` function above.\n",
    "\n",
    "\n",
    "Try at least three different pairs of features.\n"
   ]
  },
  {
   "cell_type": "code",
   "execution_count": 10,
   "id": "74a4970d",
   "metadata": {},
   "outputs": [
    {
     "name": "stderr",
     "output_type": "stream",
     "text": [
      "/Users/clairefan/opt/anaconda3/envs/MLClass/lib/python3.9/site-packages/sklearn/base.py:450: UserWarning: X does not have valid feature names, but LogisticRegression was fitted with feature names\n",
      "  warnings.warn(\n"
     ]
    },
    {
     "name": "stdout",
     "output_type": "stream",
     "text": [
      "Fit model: p(recid) = L(-1.2968 + 0.2643 decile_score + -0.4134 sex)\n"
     ]
    },
    {
     "data": {
      "text/plain": [
       "<AxesSubplot:xlabel='decile_score', ylabel='sex_numeric'>"
      ]
     },
     "execution_count": 10,
     "metadata": {},
     "output_type": "execute_result"
    },
    {
     "data": {
      "image/png": "[encoded data removed]",
      "text/plain": [
       "<Figure size 432x288 with 1 Axes>"
      ]
     },
     "metadata": {
      "needs_background": "light"
     },
     "output_type": "display_data"
    }
   ],
   "source": [
    "# Pair 1\n",
    "df[[\"sex_numeric\"]] = df[[\"sex\"]]\n",
    "df[\"sex_numeric\"].replace([\"Male\", \"Female\"],[0, 1], inplace=True)\n",
    "\n",
    "X_feature_1 = df[[\"decile_score\", \"sex_numeric\"]]\n",
    "X_train_1, X_test_1, y_train_1, y_test_1 = model_selection.train_test_split(\n",
    "    X_feature_1, y, test_size=0.25, random_state=42\n",
    ")\n",
    "\n",
    "logistic_sex_model = linear_model.LogisticRegression(solver=\"lbfgs\")\n",
    "logistic_sex_model.fit(X_train_1, y_train_1)\n",
    "\n",
    "beta_0_1 = logistic_sex_model.intercept_[0]\n",
    "beta_1_1, beta_2_1 = logistic_sex_model.coef_[0]\n",
    "\n",
    "print(f\"Fit model: p(recid) = L({beta_0_1:.4f} + {beta_1_1:.4f} decile_score + {beta_2_1:.4f} sex)\")\n",
    "\n",
    "fit_and_plot_decision_boundary(\n",
    "    linear_model.LogisticRegression(solver=\"lbfgs\"),\n",
    "    X_train_1, y_train_1, cmap=plt.cm.Greys\n",
    ")"
   ]
  },
  {
   "cell_type": "code",
   "execution_count": 11,
   "id": "8ac42222",
   "metadata": {},
   "outputs": [
    {
     "name": "stdout",
     "output_type": "stream",
     "text": [
      "Fit model: p(recid) = L(-1.3280 + 0.2644 decile_score + -0.0335 race)\n"
     ]
    },
    {
     "name": "stderr",
     "output_type": "stream",
     "text": [
      "/Users/clairefan/opt/anaconda3/envs/MLClass/lib/python3.9/site-packages/sklearn/base.py:450: UserWarning: X does not have valid feature names, but LogisticRegression was fitted with feature names\n",
      "  warnings.warn(\n"
     ]
    },
    {
     "data": {
      "text/plain": [
       "<AxesSubplot:xlabel='decile_score', ylabel='race_numeric'>"
      ]
     },
     "execution_count": 11,
     "metadata": {},
     "output_type": "execute_result"
    },
    {
     "data": {
      "image/png": "[encoded data removed]",
      "text/plain": [
       "<Figure size 432x288 with 1 Axes>"
      ]
     },
     "metadata": {
      "needs_background": "light"
     },
     "output_type": "display_data"
    }
   ],
   "source": [
    "# Pair 2\n",
    "df[[\"race_numeric\"]] = df[[\"race\"]]\n",
    "df[\"race_numeric\"].replace(df[\"race\"].unique().tolist(),[0,1,2,3,4,5], inplace=True)\n",
    "\n",
    "X_feature_2 = df[[\"decile_score\", \"race_numeric\"]]\n",
    "X_train_2, X_test_2, y_train_2, y_test_2 = model_selection.train_test_split(\n",
    "    X_feature_2, y, test_size=0.25, random_state=42\n",
    ")\n",
    "\n",
    "logistic_race_model = linear_model.LogisticRegression(solver=\"lbfgs\")\n",
    "logistic_race_model.fit(X_train_2, y_train_2)\n",
    "\n",
    "beta_0_2 = logistic_race_model.intercept_[0]\n",
    "beta_1_2, beta_2_2 = logistic_race_model.coef_[0]\n",
    "\n",
    "print(f\"Fit model: p(recid) = L({beta_0_2:.4f} + {beta_1_2:.4f} decile_score + {beta_2_2:.4f} race)\")\n",
    "\n",
    "fit_and_plot_decision_boundary(\n",
    "    linear_model.LogisticRegression(solver=\"lbfgs\"),\n",
    "    X_train_2, y_train_2, cmap=plt.cm.Greys\n",
    ")"
   ]
  },
  {
   "cell_type": "code",
   "execution_count": 12,
   "id": "4da22fe4",
   "metadata": {},
   "outputs": [
    {
     "name": "stdout",
     "output_type": "stream",
     "text": [
      "Fit model: p(recid) = L(-1.4109 + 0.2163 decile_score + 0.0763 priors_count)\n"
     ]
    },
    {
     "name": "stderr",
     "output_type": "stream",
     "text": [
      "/Users/clairefan/opt/anaconda3/envs/MLClass/lib/python3.9/site-packages/sklearn/base.py:450: UserWarning: X does not have valid feature names, but LogisticRegression was fitted with feature names\n",
      "  warnings.warn(\n"
     ]
    },
    {
     "data": {
      "text/plain": [
       "<AxesSubplot:xlabel='decile_score', ylabel='priors_count'>"
      ]
     },
     "execution_count": 12,
     "metadata": {},
     "output_type": "execute_result"
    },
    {
     "data": {
      "image/png": "[encoded data removed]",
      "text/plain": [
       "<Figure size 432x288 with 1 Axes>"
      ]
     },
     "metadata": {
      "needs_background": "light"
     },
     "output_type": "display_data"
    }
   ],
   "source": [
    "# Pair 3\n",
    "X_feature_3 = df[[\"decile_score\", \"priors_count\"]]\n",
    "X_train_3, X_test_3, y_train_3, y_test_3 = model_selection.train_test_split(\n",
    "    X_feature_3, y, test_size=0.25, random_state=42\n",
    ")\n",
    "\n",
    "logistic_priors_model = linear_model.LogisticRegression(solver=\"lbfgs\")\n",
    "logistic_priors_model.fit(X_train_3, y_train_3)\n",
    "\n",
    "beta_0_3 = logistic_priors_model.intercept_[0]\n",
    "beta_1_3, beta_2_3 = logistic_priors_model.coef_[0]\n",
    "\n",
    "print(f\"Fit model: p(recid) = L({beta_0_3:.4f} + {beta_1_3:.4f} decile_score + {beta_2_3:.4f} priors_count)\")\n",
    "\n",
    "fit_and_plot_decision_boundary(\n",
    "    linear_model.LogisticRegression(solver=\"lbfgs\"),\n",
    "    X_train_3, y_train_3, cmap=plt.cm.Greys\n",
    ")"
   ]
  },
  {
   "cell_type": "code",
   "execution_count": 13,
   "id": "9fea831d",
   "metadata": {},
   "outputs": [
    {
     "name": "stdout",
     "output_type": "stream",
     "text": [
      "Fit model: p(recid) = L(-1.3725 + 0.2601 decile_score + 0.2427 juv_fel_count)\n"
     ]
    },
    {
     "name": "stderr",
     "output_type": "stream",
     "text": [
      "/Users/clairefan/opt/anaconda3/envs/MLClass/lib/python3.9/site-packages/sklearn/base.py:450: UserWarning: X does not have valid feature names, but LogisticRegression was fitted with feature names\n",
      "  warnings.warn(\n"
     ]
    },
    {
     "data": {
      "text/plain": [
       "<AxesSubplot:xlabel='decile_score', ylabel='juv_fel_count'>"
      ]
     },
     "execution_count": 13,
     "metadata": {},
     "output_type": "execute_result"
    },
    {
     "data": {
      "image/png": "[encoded data removed]",
      "text/plain": [
       "<Figure size 432x288 with 1 Axes>"
      ]
     },
     "metadata": {
      "needs_background": "light"
     },
     "output_type": "display_data"
    }
   ],
   "source": [
    "# Pair 4\n",
    "X_feature_4 = df[[\"decile_score\", \"juv_fel_count\"]]\n",
    "X_train_4, X_test_4, y_train_4, y_test_4 = model_selection.train_test_split(\n",
    "    X_feature_4, y, test_size=0.25, random_state=42\n",
    ")\n",
    "\n",
    "logistic_juv_model = linear_model.LogisticRegression(solver=\"lbfgs\")\n",
    "logistic_juv_model.fit(X_train_4, y_train_4)\n",
    "\n",
    "beta_0_4 = logistic_juv_model.intercept_[0]\n",
    "beta_1_4, beta_2_4 = logistic_juv_model.coef_[0]\n",
    "\n",
    "print(f\"Fit model: p(recid) = L({beta_0_4:.4f} + {beta_1_4:.4f} decile_score + {beta_2_4:.4f} juv_fel_count)\")\n",
    "\n",
    "fit_and_plot_decision_boundary(\n",
    "    linear_model.LogisticRegression(solver=\"lbfgs\"),\n",
    "    X_train_4, y_train_4, cmap=plt.cm.Greys\n",
    ")"
   ]
  },
  {
   "cell_type": "markdown",
   "id": "b89f9469",
   "metadata": {},
   "source": [
    "### Answer\n",
    "Pair 4 of 'decile_score' and 'juv_fel_count' shows the clearest decision boundaries."
   ]
  },
  {
   "cell_type": "markdown",
   "id": "22099261",
   "metadata": {
    "id": "a3ca9966"
   },
   "source": [
    "## Model Evaluation\n",
    "\n",
    "Before we get too far into additional classification algorithms, let’s take a\n",
    "step back and think about how to evaluate the performance of a classification\n",
    "model."
   ]
  },
  {
   "cell_type": "markdown",
   "id": "e6c03d78",
   "metadata": {
    "id": "18d8c75c"
   },
   "source": [
    "### Accuracy\n",
    "\n",
    "Perhaps the most intuitive classification metric is *accuracy*, which is the\n",
    "fraction of correct predictions.\n",
    "\n",
    "For a scikit-learn classifier, this can be computed using the `score` method."
   ]
  },
  {
   "cell_type": "code",
   "execution_count": 14,
   "id": "5f9be54e",
   "metadata": {
    "hide-output": false,
    "id": "ceebf439"
   },
   "outputs": [
    {
     "data": {
      "text/plain": [
       "(0.6534195933456562, 0.667960088691796)"
      ]
     },
     "execution_count": 14,
     "metadata": {},
     "output_type": "execute_result"
    }
   ],
   "source": [
    "train_acc = logistic_age_model.score(X_train, y_train)\n",
    "test_acc = logistic_age_model.score(X_test, y_test)\n",
    "\n",
    "train_acc, test_acc"
   ]
  },
  {
   "cell_type": "markdown",
   "id": "1e869b29",
   "metadata": {
    "id": "6341c55b"
   },
   "source": [
    "When the testing accuracy is similar to or higher than the training\n",
    "accuracy (as it is here), the model might be underfitting.\n",
    "Thus, we should consider either using a more powerful model or adding additional\n",
    "features.\n",
    "\n",
    "In many contexts, this would be an appropriate way to evaluate a model, but in\n",
    "others, this is insufficient.\n",
    "\n",
    "For example, suppose we want to use a classification model to predict the\n",
    "likelihood of someone having a rare, but serious health condition.\n",
    "\n",
    "If the condition is very rare (say it appears in 0.01% of the population), then\n",
    "a model that always predicts false would have 99.99% accuracy, but the false\n",
    "negatives could have large consequences."
   ]
  },
  {
   "cell_type": "markdown",
   "id": "92a7395e",
   "metadata": {
    "id": "a4fae371"
   },
   "source": [
    "### Precision and Recall\n",
    "\n",
    "In order to capture situations like that, data scientists often use two other\n",
    "very common metrics:\n",
    "\n",
    "- *Precision*: The number of true positives over the number of positive\n",
    "  predictions. Precision tells us how often the model was correct when it\n",
    "  predicted true.  \n",
    "- *Recall*: The number of true positives over the number of actual positives.\n",
    "  Recall answers the question, “What fraction of the positives did we get\n",
    "  correct?”  \n",
    "\n",
    "\n",
    "In the rare health condition example, you may prefer\n",
    "a model with high recall (never misses an at-risk patient), even if the\n",
    "precision is a bit low (sometimes you have false positives).\n",
    "\n",
    "On the other hand, if your algorithm filters spam emails out of an inbox,\n",
    "you may prefer a model with high precision so that when an email is\n",
    "classified as spam, it is very likely to actually be spam (i.e. non-spam\n",
    "messages don’t get sent to spam folder).\n",
    "\n",
    "In many settings, both precision and recall are equally important and a\n",
    "compound metric known as the F1-score is used:\n",
    "\n",
    "$$\n",
    "F1 = 2 \\frac{\\text{precision} \\cdot \\text{recall}}{\\text{precision} + \\text{recall}}\n",
    "$$\n",
    "\n",
    "The F1 score is bounded between 0 and 1. It will only achieve a value of 1 if\n",
    "both precision and recall are exactly 1.\n",
    "\n",
    "We can have scikit-learn produce a textual report with precision and recall.\n",
    "\n",
    "Scikit-learn"
   ]
  },
  {
   "cell_type": "code",
   "execution_count": 15,
   "id": "1da61f22",
   "metadata": {
    "hide-output": false,
    "id": "e2b3fbc9"
   },
   "outputs": [
    {
     "name": "stdout",
     "output_type": "stream",
     "text": [
      "              precision    recall  f1-score   support\n",
      "\n",
      "    no recid       0.67      0.73      0.69      2940\n",
      "       recid       0.64      0.57      0.60      2470\n",
      "\n",
      "    accuracy                           0.65      5410\n",
      "   macro avg       0.65      0.65      0.65      5410\n",
      "weighted avg       0.65      0.65      0.65      5410\n",
      "\n"
     ]
    }
   ],
   "source": [
    "report = metrics.classification_report(\n",
    "    y_train, logistic_age_model.predict(X_train),\n",
    "    target_names=[\"no recid\", \"recid\"]\n",
    ")\n",
    "print(report)"
   ]
  },
  {
   "cell_type": "markdown",
   "id": "84c62917",
   "metadata": {
    "id": "436b7622"
   },
   "source": [
    "### ROC and AUC\n",
    "\n",
    "For classification algorithms, there is a tradeoff between precision and recall.\n",
    "\n",
    "Let’s illustrate this point in the context of the logistic regression model.\n",
    "\n",
    "The output of a logistic regression is a probability of an event or label.\n",
    "\n",
    "To obtain a definite prediction from the algorithm, the modeler would\n",
    "first select a threshold parameter $ p $ such that all model outputs above the\n",
    "threshold are given the label of true.\n",
    "\n",
    "As this $ p $ increases, the model must be relatively more confident before\n",
    "assigning a label of true.\n",
    "\n",
    "In this case, the model’s precision will increase (very confident when applying\n",
    "true label), but the recall will suffer (will apply false to some true cases\n",
    "that had a model output just below the raised threshold).\n",
    "\n",
    "Machine learning practitioners have adapted a way to help us visualize\n",
    "this tradeoff.\n",
    "\n",
    "The visualization technique is known as the receiver operating characteristic\n",
    "– or more commonly used ROC – curve \n",
    "\n",
    "> The name “receiver operating characteristic” comes from its origin;\n",
    "> during World War II, engineers used ROC curves to measure how well a radar signal\n",
    "> could be properly detected from noise (i.e. enemy aircraft vs. noise).\n",
    "\n",
    "To understand this curve, consider two extremes choices for $ p $:\n",
    "\n",
    "- When $ p=1 $, we will (almost surely) never predict any observation to\n",
    "  have a label 1. In this case, the false positive rate will be equal to 0, as\n",
    "  will the true positive rate.  \n",
    "- When $ p=0 $, we will predict that all observations always have a label\n",
    "  of 1. The false positive rate and true positive rates will be equal to 1.  \n",
    "\n",
    "\n",
    "The *ROC curve* traces the relationship between the false positive rate (on\n",
    "the x axis) and the true positive rate (on the y axis) as the probability\n",
    "threshold $ p $ is changed.\n",
    "\n",
    "Below, we define a function that uses scikit-learn to compute the true positive\n",
    "rate and false positive rates. Then we plot these rates against\n",
    "each other."
   ]
  },
  {
   "cell_type": "code",
   "execution_count": 16,
   "id": "ad8326d7",
   "metadata": {
    "hide-output": false,
    "id": "d865ad9c"
   },
   "outputs": [
    {
     "data": {
      "image/png": "[encoded data removed]",
      "text/plain": [
       "<Figure size 432x288 with 1 Axes>"
      ]
     },
     "metadata": {
      "needs_background": "light"
     },
     "output_type": "display_data"
    }
   ],
   "source": [
    "def plot_roc(mod, X, y):\n",
    "    # predicted_probs is an N x 2 array, where N is number of observations\n",
    "    # and 2 is number of classes\n",
    "    predicted_probs = mod.predict_proba(X_test)\n",
    "\n",
    "    # keep the second column, for label=1\n",
    "    predicted_prob1 = predicted_probs[:, 1]\n",
    "\n",
    "    fpr, tpr, _ = metrics.roc_curve(y_test, predicted_prob1)\n",
    "\n",
    "    # Plot ROC curve\n",
    "    fig, ax = plt.subplots()\n",
    "    ax.plot([0, 1], [0, 1], \"k--\")\n",
    "    ax.plot(fpr, tpr)\n",
    "    ax.set_xlabel(\"False Positive Rate\")\n",
    "    ax.set_ylabel(\"True Positive Rate\")\n",
    "    ax.set_title(\"ROC Curve\")\n",
    "\n",
    "plot_roc(logistic_age_model, X_test, y_test)"
   ]
  },
  {
   "cell_type": "markdown",
   "id": "382ef6c8",
   "metadata": {
    "id": "6b1aa49e"
   },
   "source": [
    "We can use the ROC curve to determine the optimal threshold value.\n",
    "\n",
    "Since the output of our recidivism application model could\n",
    "potentially inform judicial decisions that impact the lives of individuals, we\n",
    "should be careful when considering a threshold value with low false\n",
    "positive rate vs high recall (low false negative rate).\n",
    "\n",
    "We may choose to err on the side of low false negative rate so that when the model\n",
    "predicts recidivism, recidivism will likely occur – in other words,\n",
    "we would favor a high true positive rate even if the false positive rate is\n",
    "higher."
   ]
  },
  {
   "cell_type": "markdown",
   "id": "abe918f5",
   "metadata": {
    "id": "f26e5204"
   },
   "source": [
    "### Exercise 3 (20 points)\n",
    "\n",
    "Use the `metrics.roc_curve` function to determine an appropriate value\n",
    "for the probability threshold, keeping in mind our preference for\n",
    "high precision over high recall.\n",
    "\n",
    "The third return value of `metrics.roc_curve` is an array of the\n",
    "probability thresholds (`p`) used to compute each false positive rate and\n",
    "true positive rate.\n",
    "\n",
    "To do this problem, you may wish to do the following steps:\n",
    "\n",
    "- Concoct objective function in terms of the `fpr` and `tpr`.  \n",
    "- Evaluate the objective function using the `fpr` and `tpr` variables returned by the `metrics.roc_curve` function.  \n",
    "- Use `np.argmin` to find the  *index* of the smallest value of the objective function.  \n",
    "- Extract the value at the margin index from the probability threshold values array.  \n",
    "\n",
    "\n",
    "If we cared about both precision and recall equally (we don’t here),\n",
    "we might choose `(fpr - tpr)**2` as one objective function. With this\n",
    "objective function, we would find the probability threshold value\n",
    "that makes the false positive and true positive rates as equal as\n",
    "possible."
   ]
  },
  {
   "cell_type": "code",
   "execution_count": 17,
   "id": "ba4b1e5d",
   "metadata": {},
   "outputs": [
    {
     "name": "stdout",
     "output_type": "stream",
     "text": [
      "The best threshold is 0.4724.\n"
     ]
    }
   ],
   "source": [
    "# your answer here. Make more cells as needed\n",
    "predicted_probs = logistic_age_model.predict_proba(X_test)\n",
    "\n",
    "# keep the second column, for label=1\n",
    "predicted_prob1 = predicted_probs[:, 1]\n",
    "fpr, tpr, p_1 = metrics.roc_curve(y_test, predicted_prob1)\n",
    "\n",
    "best_threshold_1 = p_1[np.argmin(fpr - tpr)]\n",
    "print(f\"The best threshold is {best_threshold_1:.4f}.\")"
   ]
  },
  {
   "cell_type": "markdown",
   "id": "5f6d8ce3",
   "metadata": {},
   "source": [
    "### Parameter Selection via ROC curve\n",
    "\n",
    "The ROC curve can also be used to do hyper-parameter selection for the model’s\n",
    "parameters.\n",
    "\n",
    "To see how, consider a model with an ROC curve that has a single point at (0, 1)\n",
    "– meaning the true positive rate is 1 and false positive rate is zero or\n",
    "that the model has 100% accuracy.\n",
    "\n",
    "Notice that integrating to obtain the area under the ROC curve returns\n",
    "a value of 1 for the perfect model.\n",
    "\n",
    "The area under any other ROC curve would be less than 1.\n",
    "\n",
    "Thus, we could use the area under the curve (abbreviated AUC) as an objective\n",
    "metric in cross-validation.\n",
    "\n",
    "Let’s see an example."
   ]
  },
  {
   "cell_type": "code",
   "execution_count": 18,
   "id": "f6df92d7",
   "metadata": {
    "hide-output": false,
    "id": "c4360678"
   },
   "outputs": [
    {
     "name": "stdout",
     "output_type": "stream",
     "text": [
      "Initial AUC value is 0.7057\n"
     ]
    }
   ],
   "source": [
    "predicted_prob1 = logistic_age_model.predict_proba(X)[:, 1]\n",
    "auc = metrics.roc_auc_score(y, predicted_prob1)\n",
    "print(f\"Initial AUC value is {auc:.4f}\")\n",
    "\n",
    "# help(linear_model.LogisticRegression)"
   ]
  },
  {
   "cell_type": "markdown",
   "id": "599a3e71",
   "metadata": {
    "id": "7792539d"
   },
   "source": [
    "### Exercise 4 (20 points)\n",
    "\n",
    "The `LogisticRegression` class with default arguments implements the\n",
    "regression including `l2` regularization (it penalizes coefficient\n",
    "vectors with an l2-norm).\n",
    "\n",
    "The regularization strength is controlled by a parameter `C` that is\n",
    "passed to the `LogisticRegression` constructor.\n",
    "\n",
    "Smaller values of `C` lead to stronger regularization.\n",
    "\n",
    "For example, `LogisticRegression(C=10)` would have weaker regularization\n",
    "than `LogisticRegression(C=0.5)`.\n",
    "\n",
    "Your task here is to use the `model_selection.cross_val_score` method to select an\n",
    "optimal level for the regularization parameter `C`. The `scoring` argument should be set\n",
    "to `roc_auc`.\n",
    "\n",
    "Refer to the example in the [recidivism lecture](https://datascience.quantecon.org/recidivism.html) for how\n",
    "to use `model_selection.cross_val_score`."
   ]
  },
  {
   "cell_type": "code",
   "execution_count": 19,
   "id": "46d7e33d",
   "metadata": {},
   "outputs": [
    {
     "name": "stdout",
     "output_type": "stream",
     "text": [
      "For C = 0.001, the score is 0.703650265774326\n",
      "For C = 0.01, the score is 0.7042362086535018\n",
      "For C = 0.1, the score is 0.7042451596023025\n",
      "For C = 0.5, the score is 0.7042451596023025\n",
      "For C = 1, the score is 0.7042451596023025\n",
      "For C = 5, the score is 0.7042451596023025\n",
      "For C = 10, the score is 0.7042451596023025\n",
      "For C = 100, the score is 0.7042451596023025\n",
      "For C = 1000, the score is 0.7042451596023025\n",
      "The best C is 0.1 and the score is 0.7042451596023025\n"
     ]
    }
   ],
   "source": [
    "# your answer here. Make more cells as needed\n",
    "highest_scores = []\n",
    "C_range = [0.001, 0.01, 0.1, 0.5, 1, 5, 10, 100, 1000]\n",
    "for i in C_range:\n",
    "    lr_age_C = linear_model.LogisticRegression(C=i,solver=\"lbfgs\",penalty=\"l2\")\n",
    "    scores = model_selection.cross_val_score(lr_age_C, X_train, y_train, scoring=\"roc_auc\")\n",
    "    avg_scores = scores.mean()\n",
    "    highest_scores.append(avg_scores)\n",
    "    print(f\"For C = {i}, the score is {avg_scores}\")\n",
    "print(f\"The best C is {C_range[highest_scores.index(max(highest_scores))]} and the score is {max(highest_scores)}\")\n",
    "\n"
   ]
  },
  {
   "cell_type": "markdown",
   "id": "11bc981b",
   "metadata": {},
   "source": [
    "### Comment:\n",
    "The best regularization parameter C is 0.1."
   ]
  },
  {
   "cell_type": "code",
   "execution_count": 20,
   "id": "b094cf0a",
   "metadata": {},
   "outputs": [
    {
     "name": "stdout",
     "output_type": "stream",
     "text": [
      "Fitting 5 folds for each of 9 candidates, totalling 45 fits\n",
      "[CV 1/5] END ...........................C=0.001;, score=0.667 total time=   0.0s\n",
      "[CV 2/5] END ...........................C=0.001;, score=0.648 total time=   0.0s\n",
      "[CV 3/5] END ...........................C=0.001;, score=0.665 total time=   0.0s\n",
      "[CV 4/5] END ...........................C=0.001;, score=0.643 total time=   0.0s\n",
      "[CV 5/5] END ...........................C=0.001;, score=0.646 total time=   0.0s\n",
      "[CV 1/5] END ............................C=0.01;, score=0.672 total time=   0.0s\n",
      "[CV 2/5] END ............................C=0.01;, score=0.648 total time=   0.0s\n",
      "[CV 3/5] END ............................C=0.01;, score=0.666 total time=   0.0s\n",
      "[CV 4/5] END ............................C=0.01;, score=0.641 total time=   0.0s\n",
      "[CV 5/5] END ............................C=0.01;, score=0.641 total time=   0.0s\n",
      "[CV 1/5] END .............................C=0.1;, score=0.672 total time=   0.0s\n",
      "[CV 2/5] END .............................C=0.1;, score=0.649 total time=   0.0s\n",
      "[CV 3/5] END .............................C=0.1;, score=0.666 total time=   0.0s\n",
      "[CV 4/5] END .............................C=0.1;, score=0.642 total time=   0.0s\n",
      "[CV 5/5] END .............................C=0.1;, score=0.642 total time=   0.0s\n",
      "[CV 1/5] END .............................C=0.5;, score=0.672 total time=   0.0s\n",
      "[CV 2/5] END .............................C=0.5;, score=0.649 total time=   0.0s\n",
      "[CV 3/5] END .............................C=0.5;, score=0.666 total time=   0.0s\n",
      "[CV 4/5] END .............................C=0.5;, score=0.642 total time=   0.0s\n",
      "[CV 5/5] END .............................C=0.5;, score=0.642 total time=   0.0s\n",
      "[CV 1/5] END ...............................C=1;, score=0.672 total time=   0.0s\n",
      "[CV 2/5] END ...............................C=1;, score=0.649 total time=   0.0s\n",
      "[CV 3/5] END ...............................C=1;, score=0.666 total time=   0.0s\n",
      "[CV 4/5] END ...............................C=1;, score=0.642 total time=   0.0s\n",
      "[CV 5/5] END ...............................C=1;, score=0.642 total time=   0.0s\n",
      "[CV 1/5] END ...............................C=5;, score=0.672 total time=   0.0s\n",
      "[CV 2/5] END ...............................C=5;, score=0.649 total time=   0.0s\n",
      "[CV 3/5] END ...............................C=5;, score=0.666 total time=   0.0s\n",
      "[CV 4/5] END ...............................C=5;, score=0.642 total time=   0.0s\n",
      "[CV 5/5] END ...............................C=5;, score=0.642 total time=   0.0s\n",
      "[CV 1/5] END ..............................C=10;, score=0.672 total time=   0.0s\n",
      "[CV 2/5] END ..............................C=10;, score=0.649 total time=   0.0s\n",
      "[CV 3/5] END ..............................C=10;, score=0.666 total time=   0.0s\n",
      "[CV 4/5] END ..............................C=10;, score=0.642 total time=   0.0s\n",
      "[CV 5/5] END ..............................C=10;, score=0.642 total time=   0.0s\n",
      "[CV 1/5] END .............................C=100;, score=0.672 total time=   0.0s\n",
      "[CV 2/5] END .............................C=100;, score=0.649 total time=   0.0s\n",
      "[CV 3/5] END .............................C=100;, score=0.666 total time=   0.0s\n",
      "[CV 4/5] END .............................C=100;, score=0.642 total time=   0.0s\n",
      "[CV 5/5] END .............................C=100;, score=0.642 total time=   0.0s\n",
      "[CV 1/5] END ............................C=1000;, score=0.672 total time=   0.0s\n",
      "[CV 2/5] END ............................C=1000;, score=0.649 total time=   0.0s\n",
      "[CV 3/5] END ............................C=1000;, score=0.666 total time=   0.0s\n",
      "[CV 4/5] END ............................C=1000;, score=0.642 total time=   0.0s\n",
      "[CV 5/5] END ............................C=1000;, score=0.642 total time=   0.0s\n",
      "The best mean accuracy: 0.654\n",
      "The best regularization parameter: {'C': 0.1}\n"
     ]
    }
   ],
   "source": [
    "LR = linear_model.LogisticRegression()\n",
    "LRparam_grid = {'C': [0.001, 0.01, 0.1, 0.5, 1, 5, 10, 100, 1000]}\n",
    "LR_search = model_selection.GridSearchCV(LR, param_grid=LRparam_grid, refit = True, verbose = 3, cv=5)\n",
    "\n",
    "# fitting the model for grid search \n",
    "LR_search.fit(X_train , y_train)\n",
    "LR_search.best_params_\n",
    "# summarize\n",
    "print('The best mean accuracy: %.3f' % LR_search.best_score_)\n",
    "print('The best regularization parameter: %s' % LR_search.best_params_)"
   ]
  },
  {
   "cell_type": "markdown",
   "id": "99ccd60b",
   "metadata": {
    "id": "a7a49b89"
   },
   "source": [
    "## Neural Network Classifiers\n",
    "\n",
    "The final classifier we will visit today is a neural-network classifier, using\n",
    "the multi-layer perceptron network architecture.\n",
    "\n",
    "Recall from the [regression](https://datascience.quantecon.org/regression.html) chapter that a multi-layer\n",
    "perceptron is comprised of a series of nested linear regressions separated by\n",
    "non-linear activation functions.\n",
    "\n",
    "The number of neurons (size of weight matrices and bias vectors) in each layer\n",
    "were hyperparameters that could be chosen by modeler, but for regression, the last\n",
    "layer had to have exactly one neuron which represented the single regression\n",
    "target.\n",
    "\n",
    "To use the MLP for classification tasks, we need to make three adjustments:\n",
    "\n",
    "1. Construct a final layer with $ N $ neurons instead of 1, where $ N $ is the number of classes in the classification task.  \n",
    "1. Apply a *softmax* function on the network output.  \n",
    "1. Use the cross-entropy loss function instead of the MSE to optimize network weights and biases.  \n",
    "\n",
    "\n",
    "The softmax function applied to a vector $ x \\in \\mathbb{R}^N $ is computed as\n",
    "\n",
    "$$\n",
    "\\sigma(x)_i = \\frac{e^{x_i}}{\\sum_{j=1}^{N} e^{x_j}}\n",
    "$$\n",
    "\n",
    "In words, the softmax function is computed by exponentiating all the values,\n",
    "then dividing by the sum of exponentiated values.\n",
    "\n",
    "The output of the softmax function is a probability distribution (all\n",
    "non-negative and sum to 1) weighted by the relative value of the input values.\n",
    "\n",
    "Finally, the cross entropy loss function for $ M $ observations $ y $, with associated softmax vectors $ z $ is\n",
    "\n",
    "$$\n",
    "-\\frac{1}{M} \\sum_{j=1}^M \\sum_{i=1}^N 1_{y_j = i} log\\left(z_{i,j}\\right)\n",
    "$$\n",
    "\n",
    "where $ 1_{y_j = i} $ is an indicator variable with the value of 1 if\n",
    "the observed class was equal to $ i $ for the $ j $ th observation, 0\n",
    "otherwise.\n",
    "\n",
    "All the same tradeoffs we saw when we used the multi-layer perceptron for\n",
    "regression will apply for classification tasks.\n",
    "\n",
    "This includes positives like automated-feature enginnering and theoretically unlimited flexibility.\n",
    "\n",
    "It also includes potential negatives, such as a risk of overfitting, high\n",
    "computational expenses compared to many classification algorithms, and lack of\n",
    "interpretability.\n",
    "\n",
    "For a more detailed discussion, review the [regression lecture](https://datascience.quantecon.org/regression.html)."
   ]
  },
  {
   "cell_type": "markdown",
   "id": "3ec0262e",
   "metadata": {
    "id": "ea5378b9"
   },
   "source": [
    "### Exercise 5 (25 points)\n",
    "\n",
    "Use keras to build an MLP based classifier for the recidivism example we have been working with.\n",
    "\n",
    "Hints:\n",
    "\n",
    "- You should have only `Dense` layers in your network\n",
    "- You should use the `sigmoid` activation on the output layer (so values will be between 0 and 1 and interpretable as a probability)\n",
    "- You should be using the` BinaryCrossentropy` loss function\n",
    "- The `BinaryAccuracy` metric is a good choice for a metric\n",
    "\n",
    "Experiment with different inputs such as:\n",
    "\n",
    "- The features to include  \n",
    "- The number of layers and number of neurons in each layer  \n",
    "- The l2 regularization parameter `alpha`  \n",
    "- The solver  \n",
    "\n",
    "\n",
    "See if you can create a model that outperforms logistic regression.\n",
    "\n",
    "Keep in mind other things, like the degree of overfitting and time required\n",
    "to estimate the model parameters. How do these compare to logistic\n",
    "regression?\n",
    "\n",
    "> Hint: use google to search for something like \"binary classification keras\" to get a jump start on your code"
   ]
  },
  {
   "cell_type": "code",
   "execution_count": 21,
   "id": "1dd20f43",
   "metadata": {},
   "outputs": [],
   "source": [
    "import tensorflow as tf"
   ]
  },
  {
   "cell_type": "code",
   "execution_count": 22,
   "id": "e21c3482",
   "metadata": {},
   "outputs": [
    {
     "name": "stderr",
     "output_type": "stream",
     "text": [
      "2022-03-26 19:34:48.306148: I tensorflow/core/platform/cpu_feature_guard.cc:142] This TensorFlow binary is optimized with oneAPI Deep Neural Network Library (oneDNN) to use the following CPU instructions in performance-critical operations:  SSE4.1 SSE4.2\n",
      "To enable them in other operations, rebuild TensorFlow with the appropriate compiler flags.\n",
      "2022-03-26 19:34:48.347384: I tensorflow/compiler/mlir/mlir_graph_optimization_pass.cc:116] None of the MLIR optimization passes are enabled (registered 2)\n"
     ]
    },
    {
     "name": "stdout",
     "output_type": "stream",
     "text": [
      "Epoch 1/10\n",
      "170/170 [==============================] - 0s 376us/step - loss: 2.3474 - binary_accuracy: 0.5449\n",
      "Epoch 2/10\n",
      "170/170 [==============================] - 0s 378us/step - loss: 0.6454 - binary_accuracy: 0.6361\n",
      "Epoch 3/10\n",
      "170/170 [==============================] - 0s 378us/step - loss: 0.6397 - binary_accuracy: 0.6300\n",
      "Epoch 4/10\n",
      "170/170 [==============================] - 0s 372us/step - loss: 0.6398 - binary_accuracy: 0.6376\n",
      "Epoch 5/10\n",
      "170/170 [==============================] - 0s 360us/step - loss: 0.6350 - binary_accuracy: 0.6453\n",
      "Epoch 6/10\n",
      "170/170 [==============================] - 0s 380us/step - loss: 0.6413 - binary_accuracy: 0.6372\n",
      "Epoch 7/10\n",
      "170/170 [==============================] - 0s 357us/step - loss: 0.6250 - binary_accuracy: 0.6541\n",
      "Epoch 8/10\n",
      "170/170 [==============================] - 0s 359us/step - loss: 0.6287 - binary_accuracy: 0.6484\n",
      "Epoch 9/10\n",
      "170/170 [==============================] - 0s 358us/step - loss: 0.6307 - binary_accuracy: 0.6494\n",
      "Epoch 10/10\n",
      "170/170 [==============================] - 0s 355us/step - loss: 0.6270 - binary_accuracy: 0.6574\n",
      "170/170 [==============================] - 0s 307us/step - loss: 0.6278 - binary_accuracy: 0.6505\n",
      "57/57 [==============================] - 0s 297us/step - loss: 0.6241 - binary_accuracy: 0.6591\n",
      "Train accuracy: 0.6504620909690857\n",
      "Test accuracy: 0.6590909361839294\n"
     ]
    }
   ],
   "source": [
    "# Experiment 1\n",
    "# Features:[\"decile_score\", \"age\"]\n",
    "# Number of layer: 2\n",
    "model_0 = tf.keras.Sequential([\n",
    "    tf.keras.layers.Dense(30, activation=\"relu\",input_shape=(2,)), # the first layer\n",
    "    tf.keras.layers.Dense(1, activation=\"sigmoid\") # the output layer\n",
    "])\n",
    "\n",
    "model_0.compile(\n",
    "    optimizer=tf.keras.optimizers.Adam(),\n",
    "    loss=tf.keras.losses.BinaryCrossentropy(),\n",
    "    metrics=[tf.keras.metrics.BinaryAccuracy()]\n",
    ")\n",
    "\n",
    "model_0.fit(\n",
    "    X_train, y_train,\n",
    "    epochs=10,\n",
    ")\n",
    "\n",
    "# Check the accuracy\n",
    "train_acc_0 = model_0.evaluate(X_train, y_train)[1]\n",
    "test_acc_0 = model_0.evaluate(X_test, y_test)[1]\n",
    "print(\"Train accuracy:\", train_acc_0)\n",
    "print(\"Test accuracy:\", test_acc_0)\n"
   ]
  },
  {
   "cell_type": "markdown",
   "id": "d14ef690",
   "metadata": {},
   "source": [
    "### Comment:\n",
    "For model_0, the test accuracy is higher than the train accuracy. Thus, the model might be underfitting. We should try adding more layers."
   ]
  },
  {
   "cell_type": "code",
   "execution_count": 23,
   "id": "a813de80",
   "metadata": {},
   "outputs": [
    {
     "name": "stdout",
     "output_type": "stream",
     "text": [
      "Epoch 1/10\n",
      "170/170 [==============================] - 0s 541us/step - loss: 1.0145 - binary_accuracy: 0.5923\n",
      "Epoch 2/10\n",
      "170/170 [==============================] - 0s 524us/step - loss: 0.6314 - binary_accuracy: 0.6439\n",
      "Epoch 3/10\n",
      "170/170 [==============================] - 0s 505us/step - loss: 0.6347 - binary_accuracy: 0.6449\n",
      "Epoch 4/10\n",
      "170/170 [==============================] - 0s 495us/step - loss: 0.6385 - binary_accuracy: 0.6433\n",
      "Epoch 5/10\n",
      "170/170 [==============================] - 0s 499us/step - loss: 0.6279 - binary_accuracy: 0.6504\n",
      "Epoch 6/10\n",
      "170/170 [==============================] - 0s 491us/step - loss: 0.6287 - binary_accuracy: 0.6534\n",
      "Epoch 7/10\n",
      "170/170 [==============================] - 0s 483us/step - loss: 0.6288 - binary_accuracy: 0.6412\n",
      "Epoch 8/10\n",
      "170/170 [==============================] - 0s 492us/step - loss: 0.6331 - binary_accuracy: 0.6504\n",
      "Epoch 9/10\n",
      "170/170 [==============================] - 0s 501us/step - loss: 0.6268 - binary_accuracy: 0.6506\n",
      "Epoch 10/10\n",
      "170/170 [==============================] - 0s 495us/step - loss: 0.6360 - binary_accuracy: 0.6447\n",
      "170/170 [==============================] - 0s 355us/step - loss: 0.6267 - binary_accuracy: 0.6521\n",
      "57/57 [==============================] - 0s 361us/step - loss: 0.6192 - binary_accuracy: 0.6752\n",
      "Train accuracy: 0.6521257162094116\n",
      "Test accuracy: 0.6751663088798523\n"
     ]
    }
   ],
   "source": [
    "# Experiment 2\n",
    "# Features:[\"decile_score\", \"age\"]\n",
    "# Number of layer: 4\n",
    "model_1 = tf.keras.Sequential([\n",
    "    tf.keras.layers.Dense(30, activation=\"relu\",input_shape=(2,)), # the first layer\n",
    "    tf.keras.layers.Dense(60, activation=\"relu\"), # the second layer\n",
    "    tf.keras.layers.Dense(30, activation=\"relu\"), # the third layer\n",
    "    tf.keras.layers.Dense(1, activation=\"sigmoid\") # the output layer\n",
    "])\n",
    "\n",
    "model_1.compile(\n",
    "    optimizer=tf.keras.optimizers.Adam(),\n",
    "    loss=tf.keras.losses.BinaryCrossentropy(),\n",
    "    metrics=[tf.keras.metrics.BinaryAccuracy()]\n",
    ")\n",
    "\n",
    "model_1.fit(\n",
    "    X_train, y_train,\n",
    "    epochs=10,\n",
    ")\n",
    "\n",
    "# Check the accuracy\n",
    "train_acc_1 = model_1.evaluate(X_train, y_train)[1]\n",
    "test_acc_1 = model_1.evaluate(X_test, y_test)[1]\n",
    "print(\"Train accuracy:\", train_acc_1)\n",
    "print(\"Test accuracy:\", test_acc_1)"
   ]
  },
  {
   "cell_type": "markdown",
   "id": "8f0fe776",
   "metadata": {},
   "source": [
    "### Comment:\n",
    "The result is still not very good. Try to use other features."
   ]
  },
  {
   "cell_type": "code",
   "execution_count": 24,
   "id": "c4f3be7d",
   "metadata": {},
   "outputs": [
    {
     "name": "stdout",
     "output_type": "stream",
     "text": [
      "Epoch 1/10\n",
      "170/170 [==============================] - 0s 527us/step - loss: 0.6697 - binary_accuracy: 0.5969\n",
      "Epoch 2/10\n",
      "170/170 [==============================] - 0s 492us/step - loss: 0.6299 - binary_accuracy: 0.6559\n",
      "Epoch 3/10\n",
      "170/170 [==============================] - 0s 485us/step - loss: 0.6325 - binary_accuracy: 0.6518\n",
      "Epoch 4/10\n",
      "170/170 [==============================] - 0s 487us/step - loss: 0.6275 - binary_accuracy: 0.6523\n",
      "Epoch 5/10\n",
      "170/170 [==============================] - 0s 487us/step - loss: 0.6243 - binary_accuracy: 0.6514\n",
      "Epoch 6/10\n",
      "170/170 [==============================] - 0s 486us/step - loss: 0.6268 - binary_accuracy: 0.6475\n",
      "Epoch 7/10\n",
      "170/170 [==============================] - 0s 489us/step - loss: 0.6218 - binary_accuracy: 0.6676\n",
      "Epoch 8/10\n",
      "170/170 [==============================] - 0s 487us/step - loss: 0.6255 - binary_accuracy: 0.6543\n",
      "Epoch 9/10\n",
      "170/170 [==============================] - 0s 491us/step - loss: 0.6271 - binary_accuracy: 0.6545\n",
      "Epoch 10/10\n",
      "170/170 [==============================] - 0s 490us/step - loss: 0.6156 - binary_accuracy: 0.6700\n",
      "170/170 [==============================] - 0s 347us/step - loss: 0.6249 - binary_accuracy: 0.6556\n",
      "57/57 [==============================] - 0s 331us/step - loss: 0.6191 - binary_accuracy: 0.6680\n",
      "Train accuracy: 0.6556376814842224\n",
      "Test accuracy: 0.6679601073265076\n"
     ]
    }
   ],
   "source": [
    "# Experiment 3\n",
    "# Features:[\"decile_score\", \"juv_fel_count\"]\n",
    "# Number of layer: 2\n",
    "model_2 = tf.keras.Sequential([\n",
    "    tf.keras.layers.Dense(30, activation=\"relu\",input_shape=(2,)), # the first layer\n",
    "    tf.keras.layers.Dense(60, activation=\"relu\"), # the second layer\n",
    "    tf.keras.layers.Dense(30, activation=\"relu\"), # the third layer\n",
    "    tf.keras.layers.Dense(1, activation=\"sigmoid\") # the output layer\n",
    "])\n",
    "\n",
    "model_2.compile(\n",
    "    optimizer=tf.keras.optimizers.Adam(),\n",
    "    loss=tf.keras.losses.BinaryCrossentropy(),\n",
    "    metrics=[tf.keras.metrics.BinaryAccuracy()]\n",
    ")\n",
    "\n",
    "model_2.fit(\n",
    "    X_train_4, y_train_4,\n",
    "    epochs=10,\n",
    ")\n",
    "\n",
    "# Check the accuracy\n",
    "train_acc_2 = model_2.evaluate(X_train_4, y_train_4)[1]\n",
    "test_acc_2 = model_2.evaluate(X_test_4, y_test_4)[1]\n",
    "print(\"Train accuracy:\", train_acc_2)\n",
    "print(\"Test accuracy:\", test_acc_2)"
   ]
  },
  {
   "cell_type": "markdown",
   "id": "049d9ac1",
   "metadata": {},
   "source": [
    "### Comment：\n",
    "It still doesn't improve a lot."
   ]
  },
  {
   "cell_type": "code",
   "execution_count": 25,
   "id": "7987c0b8",
   "metadata": {},
   "outputs": [
    {
     "name": "stdout",
     "output_type": "stream",
     "text": [
      "Epoch 1/10\n",
      "170/170 [==============================] - 0s 468us/step - loss: 0.6869 - binary_accuracy: 0.5614\n",
      "Epoch 2/10\n",
      "170/170 [==============================] - 0s 424us/step - loss: 0.6593 - binary_accuracy: 0.6318\n",
      "Epoch 3/10\n",
      "170/170 [==============================] - 0s 428us/step - loss: 0.6449 - binary_accuracy: 0.6499\n",
      "Epoch 4/10\n",
      "170/170 [==============================] - 0s 430us/step - loss: 0.6370 - binary_accuracy: 0.6557\n",
      "Epoch 5/10\n",
      "170/170 [==============================] - 0s 427us/step - loss: 0.6329 - binary_accuracy: 0.6528\n",
      "Epoch 6/10\n",
      "170/170 [==============================] - 0s 437us/step - loss: 0.6284 - binary_accuracy: 0.6549\n",
      "Epoch 7/10\n",
      "170/170 [==============================] - 0s 428us/step - loss: 0.6272 - binary_accuracy: 0.6521\n",
      "Epoch 8/10\n",
      "170/170 [==============================] - 0s 437us/step - loss: 0.6300 - binary_accuracy: 0.6547\n",
      "Epoch 9/10\n",
      "170/170 [==============================] - 0s 427us/step - loss: 0.6275 - binary_accuracy: 0.6524\n",
      "Epoch 10/10\n",
      "170/170 [==============================] - 0s 432us/step - loss: 0.6314 - binary_accuracy: 0.6454\n",
      "170/170 [==============================] - 0s 352us/step - loss: 0.6259 - binary_accuracy: 0.6555\n",
      "57/57 [==============================] - 0s 343us/step - loss: 0.6203 - binary_accuracy: 0.6685\n",
      "Train accuracy: 0.6554528474807739\n",
      "Test accuracy: 0.6685144305229187\n"
     ]
    }
   ],
   "source": [
    "# Experiment 4\n",
    "# Features:[\"decile_score\", \"juv_fel_count\"]\n",
    "# Number of layer: 2\n",
    "# optimizer: SGD\n",
    "model_3 = tf.keras.Sequential([\n",
    "    tf.keras.layers.Dense(30, activation=\"relu\",input_shape=(2,)), # the first layer\n",
    "    tf.keras.layers.Dense(60, activation=\"relu\"), # the second layer\n",
    "    tf.keras.layers.Dense(30, activation=\"relu\"), # the third layer\n",
    "    tf.keras.layers.Dense(1, activation=\"sigmoid\") # the output layer\n",
    "])\n",
    "\n",
    "model_3.compile(\n",
    "    optimizer=tf.keras.optimizers.SGD(),\n",
    "    loss=tf.keras.losses.BinaryCrossentropy(),\n",
    "    metrics=[tf.keras.metrics.BinaryAccuracy()]\n",
    ")\n",
    "\n",
    "model_3.fit(\n",
    "    X_train_4, y_train_4,\n",
    "    epochs=10,\n",
    ")\n",
    "\n",
    "# Check the accuracy\n",
    "train_acc_3 = model_3.evaluate(X_train_4, y_train_4)[1]\n",
    "test_acc_3 = model_3.evaluate(X_test_4, y_test_4)[1]\n",
    "print(\"Train accuracy:\", train_acc_3)\n",
    "print(\"Test accuracy:\", test_acc_3)"
   ]
  },
  {
   "cell_type": "markdown",
   "id": "ebb130c2",
   "metadata": {},
   "source": [
    "### Comment：\n",
    "It still doesn't improve a lot and it doesn't outperform logistic regression. Considering the time required to estimate, it's better to use logistic regression model."
   ]
  },
  {
   "cell_type": "markdown",
   "id": "ee547ee6",
   "metadata": {
    "id": "7edd2114"
   },
   "source": [
    "## Application: Predicting US Recessions\n",
    "\n",
    "Let’s apply our new classification algorithm knowledge and use\n",
    "[leading indicators](https://www.investopedia.com/terms/l/leadingindicator.asp)\n",
    "to predict recessions in the US economy.\n",
    "\n",
    "A leading indicator is a variable that moves or changes before the rest\n",
    "of the economy.\n",
    "\n",
    "Many different leading indicators have been proposed – we’ll use a few of them.\n",
    "\n",
    "We won’t explicitly prove that these variables are actually leading indicators,\n",
    "but will show a plot of each variables that lets us\n",
    "visually inspect the hypothesis."
   ]
  },
  {
   "cell_type": "markdown",
   "id": "967954e3",
   "metadata": {
    "id": "27229df9"
   },
   "source": [
    "### Data Prep\n",
    "\n",
    "Let’s first gather the data from FRED."
   ]
  },
  {
   "cell_type": "code",
   "execution_count": 26,
   "id": "3ca9ab59",
   "metadata": {
    "hide-output": false,
    "id": "ed15d261"
   },
   "outputs": [
    {
     "data": {
      "text/html": [
       "<div>\n",
       "<style scoped>\n",
       "    .dataframe tbody tr th:only-of-type {\n",
       "        vertical-align: middle;\n",
       "    }\n",
       "\n",
       "    .dataframe tbody tr th {\n",
       "        vertical-align: top;\n",
       "    }\n",
       "\n",
       "    .dataframe thead th {\n",
       "        text-align: right;\n",
       "    }\n",
       "</style>\n",
       "<table border=\"1\" class=\"dataframe\">\n",
       "  <thead>\n",
       "    <tr style=\"text-align: right;\">\n",
       "      <th></th>\n",
       "      <th>yield_curve</th>\n",
       "      <th>unemp</th>\n",
       "      <th>inventory</th>\n",
       "      <th>house_permits</th>\n",
       "      <th>pct_change_hpi</th>\n",
       "      <th>retail_sales</th>\n",
       "    </tr>\n",
       "    <tr>\n",
       "      <th>DATE</th>\n",
       "      <th></th>\n",
       "      <th></th>\n",
       "      <th></th>\n",
       "      <th></th>\n",
       "      <th></th>\n",
       "      <th></th>\n",
       "    </tr>\n",
       "  </thead>\n",
       "  <tbody>\n",
       "    <tr>\n",
       "      <th>1976-04-01</th>\n",
       "      <td>0.801364</td>\n",
       "      <td>7.566667</td>\n",
       "      <td>61.087</td>\n",
       "      <td>1171.333333</td>\n",
       "      <td>0.073655</td>\n",
       "      <td>0.056936</td>\n",
       "    </tr>\n",
       "    <tr>\n",
       "      <th>1976-07-01</th>\n",
       "      <td>1.099687</td>\n",
       "      <td>7.733333</td>\n",
       "      <td>55.190</td>\n",
       "      <td>1345.000000</td>\n",
       "      <td>0.087653</td>\n",
       "      <td>0.037207</td>\n",
       "    </tr>\n",
       "    <tr>\n",
       "      <th>1976-10-01</th>\n",
       "      <td>1.467377</td>\n",
       "      <td>7.766667</td>\n",
       "      <td>20.163</td>\n",
       "      <td>1489.000000</td>\n",
       "      <td>0.080495</td>\n",
       "      <td>0.047523</td>\n",
       "    </tr>\n",
       "    <tr>\n",
       "      <th>1977-01-01</th>\n",
       "      <td>1.332222</td>\n",
       "      <td>7.500000</td>\n",
       "      <td>34.343</td>\n",
       "      <td>1562.000000</td>\n",
       "      <td>0.104962</td>\n",
       "      <td>0.037939</td>\n",
       "    </tr>\n",
       "    <tr>\n",
       "      <th>1977-04-01</th>\n",
       "      <td>1.248254</td>\n",
       "      <td>7.133333</td>\n",
       "      <td>51.245</td>\n",
       "      <td>1693.333333</td>\n",
       "      <td>0.111077</td>\n",
       "      <td>0.032931</td>\n",
       "    </tr>\n",
       "  </tbody>\n",
       "</table>\n",
       "</div>"
      ],
      "text/plain": [
       "            yield_curve     unemp  inventory  house_permits  pct_change_hpi  \\\n",
       "DATE                                                                          \n",
       "1976-04-01     0.801364  7.566667     61.087    1171.333333        0.073655   \n",
       "1976-07-01     1.099687  7.733333     55.190    1345.000000        0.087653   \n",
       "1976-10-01     1.467377  7.766667     20.163    1489.000000        0.080495   \n",
       "1977-01-01     1.332222  7.500000     34.343    1562.000000        0.104962   \n",
       "1977-04-01     1.248254  7.133333     51.245    1693.333333        0.111077   \n",
       "\n",
       "            retail_sales  \n",
       "DATE                      \n",
       "1976-04-01      0.056936  \n",
       "1976-07-01      0.037207  \n",
       "1976-10-01      0.047523  \n",
       "1977-01-01      0.037939  \n",
       "1977-04-01      0.032931  "
      ]
     },
     "execution_count": 26,
     "metadata": {},
     "output_type": "execute_result"
    }
   ],
   "source": [
    "start = \"1974-01-01\"\n",
    "end = datetime.date.today()\n",
    "\n",
    "def pct_change_on_last_year(df):\n",
    "    \"compute pct_change on previous year, assuming quarterly\"\n",
    "    return (df - df.shift(4))/df.shift(4)\n",
    "\n",
    "def get_indicators_from_fred(start=start, end=end):\n",
    "    \"\"\"\n",
    "    Fetch quarterly data on 6 leading indicators from time period start:end\n",
    "    \"\"\"\n",
    "    # yield curve, unemployment, change in inventory, new private housing permits\n",
    "    yc_unemp_inv_permit = (\n",
    "        web.DataReader([\"T10Y2Y\", \"UNRATE\", \"CBIC1\", \"PERMIT\"], \"fred\", start, end)\n",
    "        .resample(\"QS\")\n",
    "        .mean()\n",
    "    )\n",
    "\n",
    "    # percent change in housing prices and retail sales\n",
    "    hpi_retail = (\n",
    "        web.DataReader([\"USSTHPI\", \"SLRTTO01USQ661S\"], \"fred\", start, end)\n",
    "        .resample(\"QS\")  # already quarterly, adjusting so index is same\n",
    "        .mean()\n",
    "        .pipe(pct_change_on_last_year)\n",
    "        .dropna()\n",
    "    )\n",
    "\n",
    "    indicators = (\n",
    "        yc_unemp_inv_permit\n",
    "        .join(hpi_retail)\n",
    "        .dropna()\n",
    "        .rename(columns=dict(\n",
    "            USSTHPI=\"pct_change_hpi\",\n",
    "            T10Y2Y=\"yield_curve\",\n",
    "            UNRATE=\"unemp\",\n",
    "            CBIC1=\"inventory\",\n",
    "            SLRTTO01USQ661S=\"retail_sales\",\n",
    "            PERMIT=\"house_permits\"\n",
    "        ))\n",
    "    )\n",
    "\n",
    "    return indicators\n",
    "\n",
    "indicators = get_indicators_from_fred()\n",
    "\n",
    "indicators.head()"
   ]
  },
  {
   "cell_type": "markdown",
   "id": "aa2f4b92",
   "metadata": {
    "id": "c622e5e9"
   },
   "source": [
    "Now, we also need data on recessions."
   ]
  },
  {
   "cell_type": "code",
   "execution_count": 27,
   "id": "4a7e8e46",
   "metadata": {
    "hide-output": false,
    "id": "1db6edda"
   },
   "outputs": [],
   "source": [
    "def get_recession_data():\n",
    "    recession = (\n",
    "        web.DataReader([\"USRECQ\"], \"fred\", start, end)\n",
    "        .rename(columns=dict(USRECQ=\"recession\"))\n",
    "        [\"recession\"]\n",
    "    )\n",
    "\n",
    "    # extract start and end date for each recession\n",
    "    start_dates = recession.loc[recession.diff() > 0].index.tolist()\n",
    "    if recession.iloc[0] > 0:\n",
    "        start_dates = [recession.index[0]] + start_dates\n",
    "\n",
    "    end_dates = recession.loc[recession.diff() < 0].index.tolist()\n",
    "\n",
    "    if (len(start_dates) != len(end_dates)) and (len(start_dates) != len(end_dates) + 1):\n",
    "        raise ValueError(\"Need to have same number of start/end dates!\")\n",
    "\n",
    "    return recession, start_dates, end_dates\n",
    "\n",
    "recession, start_dates, end_dates = get_recession_data()"
   ]
  },
  {
   "cell_type": "markdown",
   "id": "00e835ec",
   "metadata": {
    "id": "336123be"
   },
   "source": [
    "Now, let’s take a look at the data we have."
   ]
  },
  {
   "cell_type": "code",
   "execution_count": 28,
   "id": "45251fad",
   "metadata": {
    "hide-output": false,
    "id": "241274d8"
   },
   "outputs": [
    {
     "data": {
      "image/png": "[encoded data removed]",
      "text/plain": [
       "<Figure size 576x432 with 6 Axes>"
      ]
     },
     "metadata": {
      "needs_background": "light"
     },
     "output_type": "display_data"
    }
   ],
   "source": [
    "def add_recession_bands(ax):\n",
    "    for s, e in zip(start_dates, end_dates):\n",
    "        ax.axvspan(s, e, color=\"grey\", alpha=0.2)\n",
    "\n",
    "axs = indicators.plot(subplots=True, figsize=(8, 6), layout=(3, 2), legend=False)\n",
    "\n",
    "for i, ax in enumerate(axs.flatten()):\n",
    "    add_recession_bands(ax)\n",
    "    ax.set_title(list(indicators)[i])\n",
    "\n",
    "fig = axs[0, 0].get_figure()\n",
    "fig.tight_layout();"
   ]
  },
  {
   "cell_type": "markdown",
   "id": "24cfe0ff",
   "metadata": {
    "id": "86059327"
   },
   "source": [
    "For each of the chosen variables, you can see that the leading indicator\n",
    "has a distinct move in periods leading up to a recession (noted by the grey bands in background)."
   ]
  },
  {
   "cell_type": "markdown",
   "id": "f2ca8c16",
   "metadata": {
    "id": "8595ec93"
   },
   "source": [
    "### Exercise 6 (20 points)\n",
    "\n",
    "Let’s pause here to take a few minutes and digest.\n",
    "\n",
    "If the task is to use these leading indicators to predict a recession,\n",
    "would high recall or high precision be more important for our model?\n",
    "\n",
    "Would your answer change if you worked at the Federal Reserve?\n",
    "\n",
    "What if you worked at a news company such as the Economist or the New York\n",
    "Times?"
   ]
  },
  {
   "cell_type": "markdown",
   "id": "3868f4de",
   "metadata": {},
   "source": [
    "### Answer:\n",
    "Precision = TP / (TP + FP)\n",
    "\n",
    "Recall = TP / (TP + FN)\n",
    "\n",
    "I would prefer high recall over high precision. Because I am risk-averse and if there actually will be a recession, I would like to predict that and be fully prepared (I want high true positive and low false negative). And it doesn't matter if I predicted a recession but find out there actually isn't (I can accept a false positive). To conclude, low false negative is more important than low false positive to me. Thus high recall is more important to the model.\n",
    "\n",
    "But if I work at the Federal Reserve, high precision will be more important. Because if there actually won't be a recession, I don't want the model to predict a recession making people panic (I want low false positive). I still want the model predict a recession if there actually will be one (I want high true positive). And I want the economic run smoothly and the model prediction doesn't make the recession worse (I can accept a false negative). To conclude, low false positive is more important than low false negative to me. Thus high precision is more important to the model.\n",
    "\n",
    "If I work at news company, I want a balance of high precision and high recall. Because I want to report as truthful as possible (I want high true positive and high true negative). And I want either false positive or false negative to be low. Thus, the accuracy of the model is the most import to me."
   ]
  },
  {
   "cell_type": "markdown",
   "id": "1be67461",
   "metadata": {
    "id": "9ae026a9"
   },
   "source": [
    "### How Many leads?\n",
    "\n",
    "If the variables we have chosen truly are leading indicators, we should be able\n",
    "to use leading values of the variables to predict current or future recessions.\n",
    "\n",
    "A natural question is: how many leads should we include?\n",
    "\n",
    "Let’s explore that question by looking at many different sets of leads."
   ]
  },
  {
   "cell_type": "code",
   "execution_count": 29,
   "id": "f4c2c0f3",
   "metadata": {
    "hide-output": false,
    "id": "ec69b71e"
   },
   "outputs": [
    {
     "name": "stdout",
     "output_type": "stream",
     "text": [
      "starting for 1 leads\n",
      "starting for 2 leads\n",
      "starting for 3 leads\n",
      "starting for 4 leads\n",
      "starting for 5 leads\n",
      "starting for 6 leads\n",
      "starting for 7 leads\n",
      "starting for 8 leads\n",
      "starting for 9 leads\n",
      "starting for 10 leads\n",
      "\n",
      "\n",
      "The average confusion matrix for 1 lag(s) was:\n",
      " [[37.69  0.69]\n",
      " [ 1.47  3.15]]\n",
      "\n",
      "\n",
      "The average confusion matrix for 2 lag(s) was:\n",
      " [[37.73  1.08]\n",
      " [ 2.71  2.77]]\n",
      "\n",
      "\n",
      "The average confusion matrix for 3 lag(s) was:\n",
      " [[37.61   0.745]\n",
      " [ 2.715  1.93 ]]\n",
      "\n",
      "\n",
      "The average confusion matrix for 4 lag(s) was:\n",
      " [[37.975  0.335]\n",
      " [ 2.67   2.02 ]]\n",
      "\n",
      "\n",
      "The average confusion matrix for 5 lag(s) was:\n",
      " [[37.2    0.865]\n",
      " [ 3.615  1.32 ]]\n",
      "\n",
      "\n",
      "The average confusion matrix for 6 lag(s) was:\n",
      " [[36.615  1.185]\n",
      " [ 3.875  1.325]]\n",
      "\n",
      "\n",
      "The average confusion matrix for 7 lag(s) was:\n",
      " [[36.29  1.33]\n",
      " [ 3.67  1.71]]\n",
      "\n",
      "\n",
      "The average confusion matrix for 8 lag(s) was:\n",
      " [[36.005  1.455]\n",
      " [ 3.655  1.885]]\n",
      "\n",
      "\n",
      "The average confusion matrix for 9 lag(s) was:\n",
      " [[35.505  1.575]\n",
      " [ 4.345  1.575]]\n",
      "\n",
      "\n",
      "The average confusion matrix for 10 lag(s) was:\n",
      " [[34.725  1.785]\n",
      " [ 4.56   0.93 ]]\n"
     ]
    }
   ],
   "source": [
    "def make_train_data(indicators, rec, nlead=4):\n",
    "    return indicators.join(rec.shift(nlead)).dropna()\n",
    "\n",
    "def fit_for_nlead(ind, rec, nlead, mod):\n",
    "    df = make_train_data(ind, rec, nlead)\n",
    "    X = df.drop([\"recession\"], axis=1).copy()\n",
    "    y = df[\"recession\"].copy()\n",
    "\n",
    "    X_train, X_test, y_train, y_test = model_selection.train_test_split(X, y)\n",
    "\n",
    "    mod.fit(X_train, y_train)\n",
    "    cmat = metrics.confusion_matrix(y_test, mod.predict(X_test))\n",
    "    return cmat\n",
    "\n",
    "mod = pipeline.make_pipeline(\n",
    "    preprocessing.StandardScaler(),\n",
    "    linear_model.LogisticRegression(solver=\"lbfgs\")\n",
    ")\n",
    "\n",
    "cmats = dict()\n",
    "for nlead in range(1, 11):\n",
    "    cmats[nlead] = np.zeros((2, 2))\n",
    "    print(f\"starting for {nlead} leads\")\n",
    "    for rep in range(200):\n",
    "        cmats[nlead] += fit_for_nlead(indicators, recession, nlead, mod)\n",
    "\n",
    "    cmats[nlead] = cmats[nlead] / 200\n",
    "\n",
    "for k, v in cmats.items():\n",
    "    print(f\"\\n\\nThe average confusion matrix for {k} lag(s) was:\\n {v}\")"
   ]
  },
  {
   "cell_type": "markdown",
   "id": "ea9964db",
   "metadata": {
    "id": "c8772489"
   },
   "source": [
    "From the averaged confusion matrices reported above, we see that the model with\n",
    "only one leading period was the most accurate.\n",
    "\n",
    "After that was the model with 4 leading quarters.\n",
    "\n",
    "Depending on the application, we might favor a model with higher accuracy or\n",
    "one that gives us more time to prepare (the 4 quarter model).\n",
    "\n",
    "Why did the 1-lead and 4-lead models perform better than models with\n",
    "another number of leads? Perhaps because different variables start moving a\n",
    "different number of periods before the recession hits.\n",
    "\n",
    "The exercise below asks you to explore this idea."
   ]
  },
  {
   "cell_type": "markdown",
   "id": "b28ad106",
   "metadata": {
    "id": "bc7526d8"
   },
   "source": [
    "### Exercise 7 (20 points)\n",
    "\n",
    "Extend the logic from the previous example and allow a different number\n",
    "of leading periods for each variable.\n",
    "\n",
    "How would you find the “optimal” number of leads for each variable? How\n",
    "could you try to avoid overfitting?\n",
    "\n",
    "Use `make_train_data_varying_leads` function below to construct your model."
   ]
  },
  {
   "cell_type": "code",
   "execution_count": 30,
   "id": "2253a561",
   "metadata": {
    "hide-output": false,
    "id": "7aaeb597"
   },
   "outputs": [],
   "source": [
    "def make_train_data_varying_leads(indicators, rec, nlead):\n",
    "    \"\"\"\n",
    "    Apply per-indicator leads to each indicator and join with recession data\n",
    "\n",
    "    Parameters\n",
    "    ----------\n",
    "    indicators: pd.DataFrame\n",
    "        A DataFrame with timestamps on index and leading indicators as columns\n",
    "\n",
    "    rec: pd.Series\n",
    "        A Series indicating if the US economy was in a recession each period\n",
    "\n",
    "    nlead: dict\n",
    "        A dictionary which maps a column name to a positive integer\n",
    "        specifying how many periods to shift each indicator. Any\n",
    "        indicator not given a key in this dictionary will not be\n",
    "        included in the output DataFrame.\n",
    "\n",
    "    Returns\n",
    "    -------\n",
    "    df: pd.DataFrame\n",
    "        A DataFrame with the leads applied and merged with the recession\n",
    "        indicator\n",
    "\n",
    "    Example\n",
    "    -------\n",
    "\n",
    "    ```\n",
    "    df = make_train_data_varying_leads(\n",
    "        indicators,\n",
    "        recession,\n",
    "        nlead=dict(yield_curve=3, unemp=4)\n",
    "    )\n",
    "\n",
    "    df.shape[1]  # == 3 (yield_curve, unemp, recession))\n",
    "    ```\n",
    "\n",
    "    \"\"\"\n",
    "    cols = []\n",
    "    for col in list(indicators):\n",
    "        if col in nlead:\n",
    "            cols.append(indicators[col].shift(-nlead[col]))\n",
    "\n",
    "    X = pd.concat(cols, axis=1)\n",
    "    return X.join(rec).dropna()"
   ]
  },
  {
   "cell_type": "code",
   "execution_count": 31,
   "id": "6e261bef",
   "metadata": {},
   "outputs": [],
   "source": [
    "# your answer here. Make more cells as needed\n",
    "def fit_for_nlead_varying_leads(ind, rec, nlead, mod):\n",
    "    df = make_train_data_varying_leads(ind, rec, nlead)\n",
    "    X = df.drop([\"recession\"], axis=1).copy()\n",
    "    y = df[\"recession\"].copy()\n",
    "\n",
    "    X_train, X_test, y_train, y_test = model_selection.train_test_split(X, y)\n",
    "\n",
    "    mod.fit(X_train, y_train)\n",
    "    cmat = metrics.confusion_matrix(y_test, mod.predict(X_test))\n",
    "    return cmat\n",
    "\n",
    "mod = pipeline.make_pipeline(\n",
    "    preprocessing.StandardScaler(),\n",
    "    linear_model.LogisticRegression(solver=\"lbfgs\")\n",
    ")"
   ]
  },
  {
   "cell_type": "code",
   "execution_count": 32,
   "id": "aa64da1f",
   "metadata": {},
   "outputs": [
    {
     "name": "stdout",
     "output_type": "stream",
     "text": [
      "The confusion matrix is \n",
      "{0: array([[36.76 ,  0.865],\n",
      "       [ 1.68 ,  3.325]])}\n",
      "Test Accuracy: 0.9403002580342481\n"
     ]
    }
   ],
   "source": [
    "cmats_1 = dict()\n",
    "cmats_1[0] = np.zeros((2,2))\n",
    "nlead = dict(yield_curve=1, unemp=1, inventory=1, house_permits=1, pct_change_hpi=1, retail_sales=1)\n",
    "for rep in range(200):\n",
    "    cmats_1[0] += fit_for_nlead_varying_leads(indicators, recession, nlead, mod)\n",
    "cmats_1[0] = cmats_1[0] / 200\n",
    "accuracy_1 = (cmats_1[0][0][0] + cmats_1[0][1][1]) / (cmats_1[0][0][0] + cmats_1[0][0][1] + cmats_1[0][1][0] +cmats_1[0][1][1])\n",
    "print(f\"The confusion matrix is \\n{cmats_1}\")\n",
    "print(f\"Test Accuracy: {accuracy_1}\")"
   ]
  },
  {
   "cell_type": "code",
   "execution_count": 33,
   "id": "f6abe368",
   "metadata": {},
   "outputs": [
    {
     "name": "stdout",
     "output_type": "stream",
     "text": [
      "The confusion matrix is \n",
      "{0: array([[37.14 ,  0.39 ],\n",
      "       [ 1.795,  2.675]])}\n",
      "Test Accuracy: 0.9479761904761904\n"
     ]
    }
   ],
   "source": [
    "cmats_2 = dict()\n",
    "cmats_2[0] = np.zeros((2,2))\n",
    "nlead = dict(yield_curve=4, unemp=4, inventory=1, house_permits=4, pct_change_hpi=4, retail_sales=4)\n",
    "for rep in range(200):\n",
    "    cmats_2[0] += fit_for_nlead_varying_leads(indicators, recession, nlead, mod)\n",
    "cmats_2[0] = cmats_2[0] / 200\n",
    "accuracy_2 = (cmats_2[0][0][0] + cmats_2[0][1][1]) / (cmats_2[0][0][0] + cmats_2[0][0][1] + cmats_2[0][1][0] +cmats_2[0][1][1])\n",
    "print(f\"The confusion matrix is \\n{cmats_2}\")\n",
    "print(f\"Test Accuracy: {accuracy_2}\")"
   ]
  },
  {
   "cell_type": "markdown",
   "id": "2bb4f33a",
   "metadata": {},
   "source": [
    "### Comment:\n",
    "Because in previous example, 1-lead and 4-lead models perform better than models with other number of leads, so I tried to assign 1 or 4 leads to each indicator seperatelly and calculate the test accuracy. It turns out that for nlead = dict(yield_curve=1, unemp=1, inventory=1, house_permits=1, pct_change_hpi=1, retail_sales=1) and nlead = dict(yield_curve=4, unemp=4, inventory=1, house_permits=4, pct_change_hpi=4, retail_sales=4), the model returns the highest accuracy (though it may vary a little across each run). "
   ]
  },
  {
   "cell_type": "markdown",
   "id": "85e4f39d",
   "metadata": {
    "id": "0d430b4c"
   },
   "source": [
    "### Exercise 8 (20 points)\n",
    "\n",
    "Experiment with different classifiers. Which ones perform better or worse?\n",
    "\n",
    "How accurate can you become for each accuracy metric (accuracy, precision, and recall)?\n",
    "\n",
    "\n",
    "Try at least three clasififiers"
   ]
  },
  {
   "cell_type": "code",
   "execution_count": 34,
   "id": "1cd7439d",
   "metadata": {},
   "outputs": [],
   "source": [
    "# your answer here. Make more cells as needed\n",
    "# data preparation\n",
    "Xy_recession = indicators.join(recession.shift(1)).dropna()\n",
    "X_recession = Xy_recession.drop([\"recession\"],axis=1).copy()\n",
    "y_recession = Xy_recession[\"recession\"].copy()\n",
    "X_recession_train, X_recession_test, y_recession_train, y_recession_test = model_selection.train_test_split(X_recession, y_recession, test_size=0.25, random_state=42)"
   ]
  },
  {
   "cell_type": "code",
   "execution_count": 35,
   "id": "54ef4bde",
   "metadata": {},
   "outputs": [
    {
     "name": "stdout",
     "output_type": "stream",
     "text": [
      "Epoch 1/10\n",
      "4/4 [==============================] - 0s 1ms/step - loss: 9.4389 - binary_accuracy: 0.7253 - precision: 0.3005 - recall: 0.4442    \n",
      "Epoch 2/10\n",
      "4/4 [==============================] - 0s 2ms/step - loss: 5.1147 - binary_accuracy: 0.9035 - precision: 0.0000e+00 - recall: 0.0000e+00\n",
      "Epoch 3/10\n",
      "4/4 [==============================] - 0s 1ms/step - loss: 10.3475 - binary_accuracy: 0.9035 - precision: 0.0000e+00 - recall: 0.0000e+00\n",
      "Epoch 4/10\n",
      "4/4 [==============================] - 0s 1ms/step - loss: 10.7675 - binary_accuracy: 0.8973 - precision: 0.0000e+00 - recall: 0.0000e+00\n",
      "Epoch 5/10\n",
      "4/4 [==============================] - 0s 2ms/step - loss: 10.3515 - binary_accuracy: 0.8849 - precision: 0.8000 - recall: 0.1047    \n",
      "Epoch 6/10\n",
      "4/4 [==============================] - 0s 1ms/step - loss: 1.9058 - binary_accuracy: 0.8886 - precision: 0.5250 - recall: 0.2655    \n",
      "Epoch 7/10\n",
      "4/4 [==============================] - 0s 1ms/step - loss: 0.9654 - binary_accuracy: 0.8159 - precision: 0.3827 - recall: 0.8147\n",
      "Epoch 8/10\n",
      "4/4 [==============================] - 0s 1ms/step - loss: 0.9083 - binary_accuracy: 0.9328 - precision: 0.8800 - recall: 0.3958\n",
      "Epoch 9/10\n",
      "4/4 [==============================] - 0s 1ms/step - loss: 0.7712 - binary_accuracy: 0.9225 - precision: 0.6833 - recall: 0.4013\n",
      "Epoch 10/10\n",
      "4/4 [==============================] - 0s 2ms/step - loss: 0.6084 - binary_accuracy: 0.8911 - precision: 0.5339 - recall: 0.8826\n",
      "4/4 [==============================] - 0s 937us/step - loss: 0.2500 - binary_accuracy: 0.9524 - precision: 0.7333 - recall: 0.8462\n",
      "2/2 [==============================] - 0s 1ms/step - loss: 0.0780 - binary_accuracy: 0.9535 - precision: 1.0000 - recall: 0.6000\n",
      "Train accuracy: 0.9523809552192688\n",
      "Test accuracy: 0.9534883499145508\n"
     ]
    }
   ],
   "source": [
    "# Experiment 1, MLP\n",
    "\n",
    "model_recession_1 = tf.keras.Sequential([\n",
    "    tf.keras.layers.Dense(100, activation=\"relu\",input_shape=(6,)), # the first layer\n",
    "    tf.keras.layers.Dense(100, activation=\"relu\"), # the second layer\n",
    "    tf.keras.layers.Dense(100, activation=\"relu\"), # the third layer\n",
    "    tf.keras.layers.Dense(1, activation=\"sigmoid\") # the output layer\n",
    "])\n",
    "\n",
    "model_recession_1.compile(\n",
    "    optimizer=tf.keras.optimizers.Adam(),\n",
    "    loss=tf.keras.losses.BinaryCrossentropy(),\n",
    "    metrics=[\"BinaryAccuracy\",\"Precision\",\"Recall\"]\n",
    ")\n",
    "\n",
    "model_recession_1.fit(\n",
    "    X_recession_train, y_recession_train,\n",
    "    epochs=10\n",
    ")\n",
    "\n",
    "prediction_1 = model_recession_1.predict(X_recession_test)\n",
    "\n",
    "# Check the accuracy\n",
    "train_acc_rec_1 = model_recession_1.evaluate(X_recession_train, y_recession_train)[1]\n",
    "test_acc_rec_1 = model_recession_1.evaluate(X_recession_test, y_recession_test)[1]\n",
    "print(\"Train accuracy:\", train_acc_rec_1)\n",
    "print(\"Test accuracy:\", test_acc_rec_1)"
   ]
  },
  {
   "cell_type": "code",
   "execution_count": 36,
   "id": "673a893a",
   "metadata": {},
   "outputs": [
    {
     "name": "stdout",
     "output_type": "stream",
     "text": [
      "Train accuracy: 0.9444444444444444\n",
      "Test accuracy: 0.9534883720930233\n",
      "Test precision: 1.0\n",
      "Test recall: 0.6\n"
     ]
    },
    {
     "name": "stderr",
     "output_type": "stream",
     "text": [
      "/Users/clairefan/opt/anaconda3/envs/MLClass/lib/python3.9/site-packages/sklearn/linear_model/_logistic.py:814: ConvergenceWarning: lbfgs failed to converge (status=1):\n",
      "STOP: TOTAL NO. of ITERATIONS REACHED LIMIT.\n",
      "\n",
      "Increase the number of iterations (max_iter) or scale the data as shown in:\n",
      "    https://scikit-learn.org/stable/modules/preprocessing.html\n",
      "Please also refer to the documentation for alternative solver options:\n",
      "    https://scikit-learn.org/stable/modules/linear_model.html#logistic-regression\n",
      "  n_iter_i = _check_optimize_result(\n"
     ]
    }
   ],
   "source": [
    "# Experiment 2, Logistic regression\n",
    "\n",
    "model_recession_2 = linear_model.LogisticRegression(solver=\"lbfgs\")\n",
    "model_recession_2.fit(X_recession_train, y_recession_train)\n",
    "\n",
    "prediction_2 = model_recession_2.predict(X_recession_test)\n",
    "\n",
    "train_acc_rec_2 = model_recession_2.score(X_recession_train, y_recession_train)\n",
    "test_acc_rec_2 = model_recession_2.score(X_recession_test, y_recession_test)\n",
    "\n",
    "print(f\"Train accuracy: {train_acc_rec_2}\")\n",
    "print(f\"Test accuracy: {test_acc_rec_2}\")\n",
    "print(f\"Test precision: {metrics.precision_score(y_recession_test, prediction_2)}\")\n",
    "print(f\"Test recall: {metrics.recall_score(y_recession_test, prediction_2)}\")"
   ]
  },
  {
   "cell_type": "code",
   "execution_count": 37,
   "id": "7822dde5",
   "metadata": {},
   "outputs": [
    {
     "name": "stdout",
     "output_type": "stream",
     "text": [
      "Train accuracy: 1.0\n",
      "Test accuracy: 0.9534883720930233\n",
      "Test precision: 1.0\n",
      "Test recall: 0.6\n"
     ]
    }
   ],
   "source": [
    "# Experiment 3, Randomforest\n",
    "\n",
    "from sklearn.ensemble import RandomForestClassifier\n",
    "\n",
    "model_recession_3 = RandomForestClassifier(n_estimators = 100, max_depth=10, random_state=1111)\n",
    "model_recession_3.fit(X_recession_train, y_recession_train)\n",
    "\n",
    "prediction_3 = model_recession_3.predict(X_recession_test)\n",
    "\n",
    "train_acc_rec_3 = model_recession_3.score(X_recession_train, y_recession_train)\n",
    "test_acc_rec_3 = model_recession_3.score(X_recession_test, y_recession_test)\n",
    "\n",
    "print(f\"Train accuracy: {train_acc_rec_3}\")\n",
    "print(f\"Test accuracy: {test_acc_rec_3}\")\n",
    "print(f\"Test precision: {metrics.precision_score(y_recession_test, prediction_3)}\")\n",
    "print(f\"Test recall: {metrics.recall_score(y_recession_test, prediction_3)}\")\n"
   ]
  },
  {
   "cell_type": "markdown",
   "id": "6f07e469",
   "metadata": {},
   "source": [
    "### Comment:\n",
    "For the MLP model in experiment 1, the train accuracy and teh test accuracy is not bad.\n",
    "\n",
    "For the logistic model in experiment 2, the test accuracy is higher than the train accuracy, which means it might be underfitting.\n",
    "\n",
    "For the random forest model in experiment 3, the train accuracy is 1.0, which means it might be overfitting.\n",
    "\n",
    "Thus I think the pipeline of standard scaler and logistic regression in Exercise 7 and the MLP model are good choice."
   ]
  }
 ],
 "metadata": {
  "colab": {
   "name": "Copy of classification.ipynb",
   "provenance": [],
   "toc_visible": true
  },
  "date": 1633586283.6045737,
  "filename": "classification.md",
  "kernelspec": {
   "display_name": "Python 3 (ipykernel)",
   "language": "python",
   "name": "python3"
  },
  "language_info": {
   "codemirror_mode": {
    "name": "ipython",
    "version": 3
   },
   "file_extension": ".py",
   "mimetype": "text/x-python",
   "name": "python",
   "nbconvert_exporter": "python",
   "pygments_lexer": "ipython3",
   "version": "3.9.7"
  },
  "title": "Classification"
 },
 "nbformat": 4,
 "nbformat_minor": 5
}
